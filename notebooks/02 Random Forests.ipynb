{
 "cells": [
  {
   "cell_type": "markdown",
   "metadata": {},
   "source": [
    "# Machine Learning Demonstrations"
   ]
  },
  {
   "cell_type": "markdown",
   "metadata": {},
   "source": [
    "In this notebook, we showcase how to use kdb+/q paired with embedPy to carry out machine learning tasks. Below we demonstate how to train and test a random forest classifier using the Santander Customer Satisfaction dataset.\n",
    "\n",
    "<div class=\"alert alert-danger\">\n",
    "To run the below notebook, ensure that dependencies specified in <b>requirements.txt</b> have been correctly installed.\n",
    "</div>"
   ]
  },
  {
   "cell_type": "markdown",
   "metadata": {},
   "source": [
    "## EmbedPy"
   ]
  },
  {
   "cell_type": "markdown",
   "metadata": {},
   "source": [
    "EmbedPy allows the kdb+/q interpreter to manipulate Python objects, call Python functions and load Python libraries. Python and kdb+/q developers can fuse both technologies together, allowing for a seamless application of kdb+/q’s high-speed analytics and Python’s rich ecosystem of libraries such as scikit-learn, Tensorflow, PyTorch and Theano."
   ]
  },
  {
   "cell_type": "markdown",
   "metadata": {},
   "source": [
    "## Classification Using Random Forests"
   ]
  },
  {
   "cell_type": "markdown",
   "metadata": {},
   "source": [
    "The random forest algorithm is an ensemble learning method used for supervised classification and regression problems. Random Forests combine multiple decision trees and output an average prediction.\n",
    "\n",
    "A random forest is a collection (often large) of decision trees, each fitted to a subset of the data. A standard choice for a subset is to randomly choose 50% of the datapoints (rows) and take $\\sqrt[p]{p}$ of the  p  features (columns). A decision tree is fitted to each subset until the desired number of trees have been grown in the random forest.\n",
    "\n",
    "The technique of fitting weakly-predictive models to subsets of the data is called bagging (bootstrap aggregation).\n",
    "\n",
    "Random Forests can:\n",
    "- Manage a mixture of discrete, continuous and categorical inputs.\n",
    "- Use data with no normalization/pre-processing (including missing data).\n",
    "- Incorporate a large number of trees without overfitting.\n",
    "\n",
    "For these reasons, random forests are the preferred machine learning algorithm in many applications, even over neural networks.\n",
    "\n",
    "Further discussion of Random Forests can be found in the Wikipedia article [Random forest](https://en.wikipedia.org/wiki/Random_forest) or [Sci-Kit Learn documentation](http://scikit-learn.org/stable/modules/generated/sklearn.ensemble.RandomForestClassifier.html). "
   ]
  },
  {
   "cell_type": "markdown",
   "metadata": {},
   "source": [
    "## Santander Customer Satisfaction Data"
   ]
  },
  {
   "cell_type": "markdown",
   "metadata": {},
   "source": [
    "The [Santander Customer Satisfaction Dataset](https://www.kaggle.com/c/santander-customer-satisfaction) is a database consisting of data from 76,020 Santander customers. There are 370 features for each customer, along with a field indicating whether they were satisfied customers or not."
   ]
  },
  {
   "cell_type": "markdown",
   "metadata": {},
   "source": [
    "---"
   ]
  },
  {
   "cell_type": "markdown",
   "metadata": {},
   "source": [
    "### Load data\n",
    "In the cell below, we load in the utilities library from the [ML-Toolkit](https://github.com/KxSystems/ml), along with graphics functions required for this notebook. We then use embedPy to import relevant python modules and load data from the Santander Customer Satisfaction dataset."
   ]
  },
  {
   "cell_type": "code",
   "execution_count": 1,
   "metadata": {},
   "outputs": [],
   "source": [
    "/ load toolkit and graphics functions\n",
    "\\l ml/ml.q\n",
    ".ml.loadfile`:util/init.q\n",
    "\n",
    "\\l ../utils/graphics.q\n",
    "\\l ../utils/util.q"
   ]
  },
  {
   "cell_type": "code",
   "execution_count": 2,
   "metadata": {},
   "outputs": [
    {
     "name": "stdout",
     "output_type": "stream",
     "text": [
      "ID var3 var15 imp_ent_var16_ult1 imp_op_var39_comer_ult1 imp_op_var39_comer_u..\n",
      "-----------------------------------------------------------------------------..\n",
      "1  2    23    0                  0                       0                   ..\n",
      "3  2    34    0                  0                       0                   ..\n",
      "4  2    23    0                  0                       0                   ..\n",
      "8  2    37    0                  195                     195                 ..\n",
      "10 2    39    0                  0                       0                   ..\n",
      "\n",
      "Shape of feature data is: 76020 x 370\n",
      "\n",
      "Distribution of target values:\n",
      "\n",
      "TARGET| num   pcnt \n",
      "------| -----------\n",
      "0     | 73012 96.04\n",
      "1     | 3008  3.96 \n"
     ]
    }
   ],
   "source": [
    "show 5#data:((370#\"F\"),\"I\";(),\",\")0:`:../data/santander.csv\n",
    "\n",
    "/ Inspect data\n",
    "-1\"\\nShape of feature data is: \",\" x \"sv string .ml.shape delete TARGET from data;\n",
    "-1\"\\nDistribution of target values:\\n\";\n",
    "show update pcnt:.01*floor .5+10000*num%sum num from select num:count i by TARGET from data;"
   ]
  },
  {
   "cell_type": "markdown",
   "metadata": {},
   "source": [
    "Classes are highly unbalanced:\n",
    "- `96%` are satisfied (0)\n",
    "- `4%` of clients are dissatisfied (1)\n",
    "\n",
    "A classifier that naively predicted that all clients were satisfied, would therefore achieve nearly 96% accuracy on this dataset. However, such a model would not be of much use in predicting customer churn."
   ]
  },
  {
   "cell_type": "markdown",
   "metadata": {},
   "source": [
    "---"
   ]
  },
  {
   "cell_type": "markdown",
   "metadata": {},
   "source": [
    "### Prepare data\n",
    "Before we can train a model we need to split the original data into training and testing sets. In this notebook we have chosen to use a 67/33 train/test split."
   ]
  },
  {
   "cell_type": "code",
   "execution_count": 3,
   "metadata": {},
   "outputs": [
    {
     "name": "stdout",
     "output_type": "stream",
     "text": [
      "xtrain| 50933\n",
      "ytrain| 50933\n",
      "xtest | 25087\n",
      "ytest | 25087\n"
     ]
    }
   ],
   "source": [
    "\\S 123  / random seed\n",
    "show count each datadict:.ml.trainTestSplit[flip value flip delete TARGET from data;data`TARGET;.33]"
   ]
  },
  {
   "cell_type": "markdown",
   "metadata": {},
   "source": [
    "---"
   ]
  },
  {
   "cell_type": "markdown",
   "metadata": {},
   "source": [
    "### Fit and evaluate models\n",
    "Here we create a function to build, fit and evaluate the classifiers."
   ]
  },
  {
   "cell_type": "code",
   "execution_count": 4,
   "metadata": {},
   "outputs": [],
   "source": [
    "score:{[y;ypred;yprob]\n",
    " `loss`acc`auc!(.ml.logLoss[y;yprob];.ml.accuracy[ypred;y];.ml.rocAucScore[y;yprob[;1]])}\n",
    "\n",
    "results:{[data;clf;name;clfkwargs;ntrees]\n",
    " clf:rf[`n_estimators pykw ntrees;pykwargs clfkwargs];\n",
    " clf[`:fit][xnp:.util.npa data`xtrain;data`ytrain];\n",
    "    \n",
    " ytrnprob:clf[`:predict_proba;<;xnp];\n",
    " ytrnpred:raze .util.imax each ytrnprob;\n",
    " ytstprob:clf[`:predict_proba;<;.util.npa data`xtest];\n",
    " ytstpred:raze .util.imax each ytstprob;\n",
    "  \n",
    " trnscore:score[data`ytrain;ytrnpred;ytrnprob];\n",
    " tstscore:score[data`ytest ;ytstpred;ytstprob];\n",
    "    \n",
    " -1 name,\" (\",string[ntrees],\" trees)\";\n",
    " -1\"Training log loss: \",string[trnscore`loss],\", accuracy: \",raze[string trnscore`acc],\", ROC: \",string trnscore`auc;\n",
    " -1\"Testing  log loss: \",string[tstscore`loss],\", accuracy: \",raze[string tstscore`acc],\", ROC: \",string tstscore`auc;\n",
    " -1\"\\n\";}"
   ]
  },
  {
   "cell_type": "markdown",
   "metadata": {},
   "source": [
    "Now we will fit random forest classifiers with 1, 5, 10, 50 and 100 trees with a max depth of 80 on the training data and evaluate their performance on the held-out test data. "
   ]
  },
  {
   "cell_type": "code",
   "execution_count": 5,
   "metadata": {},
   "outputs": [
    {
     "name": "stdout",
     "output_type": "stream",
     "text": [
      "Random Forest Classifier (1 trees)\n",
      "Training log loss: 0.8171367, accuracy: 0.9763415, ROC: 0.83893\n",
      "Testing  log loss: 2.377664, accuracy: 0.9311596, ROC: 0.5422985\n",
      "\n",
      "\n",
      "Random Forest Classifier (5 trees)\n",
      "Training log loss: 0.03426922, accuracy: 0.9918717, ROC: 0.9969912\n",
      "Testing  log loss: 0.9367788, accuracy: 0.9530035, ROC: 0.6241575\n",
      "\n",
      "\n",
      "Random Forest Classifier (10 trees)\n",
      "Training log loss: 0.02956467, accuracy: 0.9925, ROC: 0.9998367\n",
      "Testing  log loss: 0.6905848, accuracy: 0.9577072, ROC: 0.6877902\n",
      "\n",
      "\n",
      "Random Forest Classifier (50 trees)\n",
      "Training log loss: 0.02848161, accuracy: 0.9993325, ROC: 1\n",
      "Testing  log loss: 0.3404803, accuracy: 0.9577072, ROC: 0.7652398\n",
      "\n",
      "\n",
      "Random Forest Classifier (100 trees)\n",
      "Training log loss: 0.02824322, accuracy: 0.9999804, ROC: 1\n",
      "Testing  log loss: 0.258866, accuracy: 0.9585044, ROC: 0.7870034\n",
      "\n",
      "\n"
     ]
    }
   ],
   "source": [
    "rf:.p.import[`sklearn.ensemble]`:RandomForestClassifier\n",
    "ntrees:1 5 10 50 100\n",
    "rfkwargs:`class_weight`max_depth!(`balanced;80)\n",
    "results[datadict;rf;\"Random Forest Classifier\";rfkwargs]each ntrees;"
   ]
  },
  {
   "cell_type": "markdown",
   "metadata": {},
   "source": [
    "---"
   ]
  },
  {
   "cell_type": "markdown",
   "metadata": {},
   "source": [
    "### Results"
   ]
  },
  {
   "cell_type": "markdown",
   "metadata": {},
   "source": [
    "Accuracy is significantly better on the training data than the test data. Near-perfect accuracy suggests that the model has effectively memorized the training dataset.\n",
    "\n",
    "Given that the goal is to create a model which is able to generalize to unseen datasets, we must be wary of overfitting.\n",
    "\n",
    "Below we plot the ROC curve for 100 trees to showcase model performance."
   ]
  },
  {
   "cell_type": "code",
   "execution_count": 6,
   "metadata": {},
   "outputs": [
    {
     "data": {
      "image/png": "[encoded data removed]",
      "text/plain": [
       "<Figure size 460.8x345.6 with 1 Axes>"
      ]
     },
     "metadata": {},
     "output_type": "display_data"
    }
   ],
   "source": [
    "clf:rf[`n_estimators pykw 100;`max_depth pykw 100;`class_weight pykw`balanced];\n",
    "clf[`:fit][datadict`xtrain;datadict`ytrain];\n",
    "yprob:clf[`:predict_proba;<]datadict`xtest\n",
    "\n",
    ".util.displayROC[datadict`ytest;yprob[;1]];"
   ]
  },
  {
   "cell_type": "markdown",
   "metadata": {},
   "source": [
    "---"
   ]
  },
  {
   "cell_type": "markdown",
   "metadata": {},
   "source": [
    "---"
   ]
  },
  {
   "cell_type": "markdown",
   "metadata": {},
   "source": [
    "### Dealing with overfitting\n",
    "\n",
    "Overfitting can be controlled by reducing the degree of freedom of the model, such as the depth of the trees that the algorithm constructs. We therefore repeat the exercise above, restricting the tree depth to 35."
   ]
  },
  {
   "cell_type": "code",
   "execution_count": 7,
   "metadata": {},
   "outputs": [
    {
     "name": "stdout",
     "output_type": "stream",
     "text": [
      "Random Forest Classifier (1 trees)\n",
      "Training log loss: 0.6911325, accuracy: 0.8991224, ROC: 0.8600379\n",
      "Testing  log loss: 1.50017, accuracy: 0.8729621, ROC: 0.6817366\n",
      "\n",
      "\n",
      "Random Forest Classifier (5 trees)\n",
      "Training log loss: 0.1095727, accuracy: 0.9536843, ROC: 0.9756383\n",
      "Testing  log loss: 0.6132017, accuracy: 0.9240643, ROC: 0.7297145\n",
      "\n",
      "\n",
      "Random Forest Classifier (10 trees)\n",
      "Training log loss: 0.1214912, accuracy: 0.9527418, ROC: 0.9785389\n",
      "Testing  log loss: 0.4595029, accuracy: 0.9229481, ROC: 0.7426392\n",
      "\n",
      "\n",
      "Random Forest Classifier (50 trees)\n",
      "Training log loss: 0.1253604, accuracy: 0.9465769, ROC: 0.9762114\n",
      "Testing  log loss: 0.2687967, accuracy: 0.916092, ROC: 0.7912269\n",
      "\n",
      "\n",
      "Random Forest Classifier (100 trees)\n",
      "Training log loss: 0.1146057, accuracy: 0.9555887, ROC: 0.9805604\n",
      "Testing  log loss: 0.2255912, accuracy: 0.9220313, ROC: 0.7985882\n",
      "\n",
      "\n"
     ]
    }
   ],
   "source": [
    "rfkwargs:`class_weight`max_depth!(`balanced;35)\n",
    "results[datadict;rf;\"Random Forest Classifier\";rfkwargs;]each ntrees;"
   ]
  },
  {
   "cell_type": "markdown",
   "metadata": {},
   "source": [
    "Similar testing results are seen in both models while generalising the model by restricting the tree depth.\n",
    "\n",
    "Looking at the test results:\n",
    "- The ROC measure is comparable to previous classifiers.\n",
    "- The accuracy has reduced.\n",
    "\n",
    "Looking again at the ROC curve for 100 trees:"
   ]
  },
  {
   "cell_type": "code",
   "execution_count": 8,
   "metadata": {},
   "outputs": [
    {
     "data": {
      "image/png": "[encoded data removed]",
      "text/plain": [
       "<Figure size 460.8x345.6 with 1 Axes>"
      ]
     },
     "metadata": {},
     "output_type": "display_data"
    }
   ],
   "source": [
    "clf:rf[`n_estimators pykw 100;`max_depth pykw 35;`class_weight pykw`balanced];\n",
    "clf[`:fit][datadict`xtrain;datadict`ytrain];\n",
    "yprob:clf[`:predict_proba;<]datadict`xtest\n",
    "\n",
    ".util.displayROC[datadict`ytest;yprob[;1]];"
   ]
  },
  {
   "cell_type": "markdown",
   "metadata": {},
   "source": [
    "### XGBoost\n",
    "\n",
    "XGBoost is a random forest algorithm that combines the bagging technique with a further addition called boosting.\n",
    "\n",
    "Boosting works by increasing the weighting on examples that have been misclassified in the past.\n",
    "\n",
    "Further information can be found on the [XGBoost website](https://xgboost.readthedocs.io/en/latest/).\n",
    "\n",
    "We will repeat the process of training again with an XGB classifier to see how results are affected."
   ]
  },
  {
   "cell_type": "code",
   "execution_count": 9,
   "metadata": {},
   "outputs": [
    {
     "name": "stdout",
     "output_type": "stream",
     "text": [
      "XGB Classifier (1 trees)\n",
      "Training log loss: 0.1568038, accuracy: 0.9606738, ROC: 0.6932806\n",
      "Testing  log loss: 0.1657113, accuracy: 0.9600191, ROC: 0.6859272\n",
      "\n",
      "\n",
      "XGB Classifier (5 trees)\n",
      "Training log loss: 0.1459129, accuracy: 0.9606542, ROC: 0.7954125\n",
      "Testing  log loss: 0.1487045, accuracy: 0.9600191, ROC: 0.790063\n",
      "\n",
      "\n",
      "XGB Classifier (10 trees)\n",
      "Training log loss: 0.1477674, accuracy: 0.9606346, ROC: 0.7885217\n",
      "Testing  log loss: 0.150476, accuracy: 0.9600191, ROC: 0.7829365\n",
      "\n",
      "\n",
      "XGB Classifier (50 trees)\n",
      "Training log loss: 0.1483741, accuracy: 0.9606346, ROC: 0.7969555\n",
      "Testing  log loss: 0.1515139, accuracy: 0.9600191, ROC: 0.7888553\n",
      "\n",
      "\n",
      "XGB Classifier (100 trees)\n",
      "Training log loss: 0.146998, accuracy: 0.9606346, ROC: 0.8042248\n",
      "Testing  log loss: 0.1501023, accuracy: 0.9600191, ROC: 0.7950537\n",
      "\n",
      "\n"
     ]
    }
   ],
   "source": [
    "xgb:.p.import[`xgboost]`:XGBClassifier\n",
    "rfkwargs:enlist[`max_depth]!enlist 4\n",
    "results[datadict;xgb;\"XGB Classifier\";rfkwargs;]each ntrees;"
   ]
  },
  {
   "cell_type": "markdown",
   "metadata": {},
   "source": [
    "These results show a significant improvement, in terms of both accuracy and ROC scores.\n",
    "\n",
    "Furthermore, plotting the ROC curve for 100 trees gives:"
   ]
  },
  {
   "cell_type": "code",
   "execution_count": 10,
   "metadata": {},
   "outputs": [
    {
     "data": {
      "image/png": "[encoded data removed]",
      "text/plain": [
       "<Figure size 460.8x345.6 with 1 Axes>"
      ]
     },
     "metadata": {},
     "output_type": "display_data"
    }
   ],
   "source": [
    "clf:xgb[`n_estimators pykw 100;`max_depth pykw 4];\n",
    "clf[`:fit][.util.npa datadict`xtrain;.util.npa datadict`ytrain];\n",
    "yprob:clf[`:predict_proba;<].util.npa datadict`xtest\n",
    "\n",
    ".util.displayROC[datadict`ytest;yprob[;1]];"
   ]
  },
  {
   "cell_type": "markdown",
   "metadata": {
    "collapsed": true
   },
   "source": [
    "The XGB classifier with 100 trees attains a ROC value of 0.83. This is equal to the highest result recorded in Kaggle for this dataset."
   ]
  },
  {
   "cell_type": "markdown",
   "metadata": {},
   "source": [
    "---"
   ]
  }
 ],
 "metadata": {
  "kernelspec": {
   "display_name": "Q (kdb+)",
   "language": "q",
   "name": "qpk"
  },
  "language_info": {
   "file_extension": ".q",
   "mimetype": "text/x-q",
   "name": "q",
   "version": "4.0"
  }
 },
 "nbformat": 4,
 "nbformat_minor": 2
}
