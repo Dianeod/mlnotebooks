{
 "cells": [
  {
   "cell_type": "markdown",
   "metadata": {},
   "source": [
    "# Machine Learning Demonstrations"
   ]
  },
  {
   "cell_type": "markdown",
   "metadata": {},
   "source": [
    "In this notebook, we demonstrated how to use the Kx kdb+/q Automated Machine Learning library. The example below use samples from the Wisconsin Breast Cancer Dataset dataset.\n",
    "\n",
    "<div class=\"alert alert-danger\">\n",
    "To run the below notebook, ensure that dependencies specified in <b>requirements.txt</b> have been correctly installed.\n",
    "</div>"
   ]
  },
  {
   "cell_type": "markdown",
   "metadata": {},
   "source": [
    "## Machine Learning Toolkit"
   ]
  },
  {
   "cell_type": "markdown",
   "metadata": {},
   "source": [
    "The Machine Learning Toolkit ([ML-Toolkit](https://github.com/KxSystems/ml)) contains general use utilities, an implementation of the FRESH (Feature Extraction based on Scalable Hypothesis tests) algorithm and cross validation functions. The primary purpose of these libraries are to provide kdb+/q users with access to commonly-used ML functions for preprocessing data, extracting features and scoring results."
   ]
  },
  {
   "cell_type": "markdown",
   "metadata": {},
   "source": [
    "## Automated Machine Learning in kdb+/q"
   ]
  },
  {
   "cell_type": "markdown",
   "metadata": {},
   "source": [
    "The kdb+/q [Automated Machine Learning](... INSERT LINK HERE ...) library is built largely on the tools available within the kdb+/q ML-Toolkit. The purpose of this platform is to provide users with the ability to automate the process of applying machine learning techniques to real-world problems. In the absence of expert machine learning engineers this handles the following processes within a traditional workflow:\n",
    "\n",
    "- Data preprocessing\n",
    "- Feature engineering and feature selection\n",
    "- Model selection\n",
    "- Hyperparameter Tuning\n",
    "- Report generation and model persistence\n",
    "\n",
    "Each of these steps is outlined in depth within the documentation for this platform [here](... INSERT DOCUMENTATION LINK ...). This allows users to understand the processes by which decisions are being made and the transformations which their data undergo during the production of the output models.\n",
    "\n",
    "At present the machine learning frameworks supported for this are based on:\n",
    "\n",
    "- One-to-one feature to target non time-series\n",
    "- FRESH based feature extraction and model production\n",
    "\n",
    "The problems which can be solved by this platform will be expanded over time as will the available functionality.\n",
    "\n",
    "The library is loaded in as follows:"
   ]
  },
  {
   "cell_type": "code",
   "execution_count": 1,
   "metadata": {},
   "outputs": [
    {
     "name": "stderr",
     "output_type": "stream",
     "text": [
      "Using TensorFlow backend.\n"
     ]
    }
   ],
   "source": [
    "// load in automl\n",
    "\\l automl/automl.q\n",
    ".automl.loadfile`:init.q"
   ]
  },
  {
   "cell_type": "markdown",
   "metadata": {},
   "source": [
    "---"
   ]
  },
  {
   "cell_type": "markdown",
   "metadata": {},
   "source": [
    "## Wisconsin Breast Cancer Dataset"
   ]
  },
  {
   "cell_type": "markdown",
   "metadata": {},
   "source": [
    "The [Wisconsin Breast Cancer Dataset](https://archive.ics.uci.edu/ml/datasets/Breast+Cancer+Wisconsin+(Diagnostic)) is a set of 569 samples of fine needle aspirate (FNA) of breast mass. Each sample contains features describing characteristics of the cell nuclei, along with a classification of the sample as either benign or malignant.\n",
    "\n",
    "In each case below, we aim to create a model which can accurately dicern between the benign and malignant samples. This will be shown when pre-trained models are tested on new unseen data."
   ]
  },
  {
   "cell_type": "markdown",
   "metadata": {},
   "source": [
    "### Load data"
   ]
  },
  {
   "cell_type": "markdown",
   "metadata": {},
   "source": [
    "Below we load in the data from the sklearn datasets library using embedPy. We also load in utility and graphics functions required within this notebook."
   ]
  },
  {
   "cell_type": "code",
   "execution_count": 2,
   "metadata": {},
   "outputs": [],
   "source": [
    "// load utils\n",
    "\\l ../utils/util.q\n",
    "\\l ../utils/graphics.q"
   ]
  },
  {
   "cell_type": "code",
   "execution_count": 3,
   "metadata": {},
   "outputs": [
    {
     "name": "stdout",
     "output_type": "stream",
     "text": [
      "Shape of feature data is: 569 x 30\n",
      "\n",
      "17.99 10.38 122.8 1001  0.1184  0.2776  0.3001 0.1471  0.2419 0.07871 1.095  ..\n",
      "20.57 17.77 132.9 1326  0.08474 0.07864 0.0869 0.07017 0.1812 0.05667 0.5435 ..\n",
      "19.69 21.25 130   1203  0.1096  0.1599  0.1974 0.1279  0.2069 0.05999 0.7456 ..\n",
      "11.42 20.38 77.58 386.1 0.1425  0.2839  0.2414 0.1052  0.2597 0.09744 0.4956 ..\n",
      "20.29 14.34 135.1 1297  0.1003  0.1328  0.198  0.1043  0.1809 0.05883 0.7572 ..\n",
      "\n",
      "Distribution of target values:\n",
      "\n",
      "target| num pcnt \n",
      "------| ---------\n",
      "0     | 212 37.26\n",
      "1     | 357 62.74\n"
     ]
    }
   ],
   "source": [
    "// import data\n",
    "data:.p.import[`sklearn.datasets;`:load_breast_cancer][]\n",
    "\n",
    "// extract features and targets\n",
    "feat:data[`:data]`\n",
    "targ:data[`:target]`\n",
    "\n",
    "// extract feature names\n",
    "featnm:pylist[<]data`:feature_names\n",
    "\n",
    "// inspect data\n",
    "-1\"Shape of feature data is: \",(\" x \"sv string .ml.shape feat),\"\\n\";\n",
    "show 5#feat\n",
    "-1\"\\nDistribution of target values:\\n\";\n",
    "show update pcnt:round[;.01]100*num%sum num from select num:count i by target from([]target:targ);"
   ]
  },
  {
   "cell_type": "markdown",
   "metadata": {},
   "source": [
    "The original dataset is imported as a matrix. Given that automated platform only accepts features in tabular format, we must first convert the matrix into a table using the feature names imported above."
   ]
  },
  {
   "cell_type": "code",
   "execution_count": 4,
   "metadata": {},
   "outputs": [
    {
     "data": {
      "text/plain": [
       "mean radius mean texture mean perimeter mean area mean smoothness mean compac..\n",
       "-----------------------------------------------------------------------------..\n",
       "17.99       10.38        122.8          1001      0.1184          0.2776     ..\n",
       "20.57       17.77        132.9          1326      0.08474         0.07864    ..\n",
       "19.69       21.25        130            1203      0.1096          0.1599     ..\n",
       "11.42       20.38        77.58          386.1     0.1425          0.2839     ..\n",
       "20.29       14.34        135.1          1297      0.1003          0.1328     ..\n"
      ]
     },
     "execution_count": 4,
     "metadata": {},
     "output_type": "execute_result"
    }
   ],
   "source": [
    "featnm:`${x except enlist\"'\"}each .p.repr each featnm\n",
    "5#feat:flip featnm!flip feat"
   ]
  },
  {
   "cell_type": "markdown",
   "metadata": {},
   "source": [
    "### User Interface"
   ]
  },
  {
   "cell_type": "markdown",
   "metadata": {},
   "source": [
    "At the highest level the auto ml library allows for two primary callable functions:\n",
    "\n",
    "- `.automl.run` = Run the automated machine learning pipeline on user defined data and target\n",
    "- `.automl.new` = Using a previously fit model and set of instructions derived from 1 above, predict the target value for new tabular data\n",
    "\n",
    "Both of these functions are modifiable by a user to suit specific use cases and have been designed where possible to cover a wide range of functional options and to be extensible to a users needs."
   ]
  },
  {
   "cell_type": "markdown",
   "metadata": {},
   "source": [
    "### Prepare data"
   ]
  },
  {
   "cell_type": "markdown",
   "metadata": {},
   "source": [
    "As we want to run both `.automl.run` and `.automl.new` we start by splitting our data into a training and testing set, where 20% has been chosen for the testing set. Note that we have set a random seed so that results can be replicated."
   ]
  },
  {
   "cell_type": "code",
   "execution_count": 5,
   "metadata": {},
   "outputs": [
    {
     "name": "stdout",
     "output_type": "stream",
     "text": [
      "xtrain| +`mean radius`mean texture`mean perimeter`mean area`mean smoothness`m..\n",
      "ytrain| 1 1 1 1 1 1 0 0 1 1 1 0 1 0 1 1 1 1 0 1 1 0 1 0 1 0 1 1 1 0 0 1 1 1 0..\n",
      "xtest | +`mean radius`mean texture`mean perimeter`mean area`mean smoothness`m..\n",
      "ytest | 0 0 1 1 1 0 1 0 1 1 1 1 1 0 1 1 1 1 1 0 0 1 1 1 1 0 1 1 0 0 1 1 1 0 1..\n"
     ]
    }
   ],
   "source": [
    "\\S 42\n",
    "show inputs:.ml.traintestsplit[feat;targ;.2]"
   ]
  },
  {
   "cell_type": "markdown",
   "metadata": {},
   "source": [
    "---"
   ]
  },
  {
   "cell_type": "markdown",
   "metadata": {},
   "source": [
    "## Contents\n",
    "\n",
    "Below, the notebook has been split into 2 distinct sections:\n",
    "1. [Default Configurations](#Default-Configurations)\n",
    "2. [Custom Configurations (Advanced)](#Custom-Configurations-(Advanced))"
   ]
  },
  {
   "cell_type": "markdown",
   "metadata": {},
   "source": [
    "---"
   ]
  },
  {
   "cell_type": "markdown",
   "metadata": {},
   "source": [
    "## Default Configurations"
   ]
  },
  {
   "cell_type": "markdown",
   "metadata": {},
   "source": [
    "### Inputs"
   ]
  },
  {
   "cell_type": "markdown",
   "metadata": {},
   "source": [
    "Below we demonstrate how to apply `.automl.run` to our features and targets in the default setting, where the function has the syntax:\n",
    "\n",
    "```.automl.run[tab;tgt;ftype;ptype;dict]```\n",
    "\n",
    "Where:\n",
    "- `tab` is unkeyed tabular data from which the models will be created\n",
    "- `tgt` is the target vector\n",
    "- `ftype` type of feature extraction being completed on the dataset as a symbol (``` `fresh```/``` `normal```)\n",
    "- `ptype` type of problem, regression/class, as a symbol (``` `reg```/``` `class```)\n",
    "- `dict` is one of `(::)` for default behaviour, a kdb+ dictionary or path to a user defined flat file for modifying default parameters.\n",
    "\n",
    "In this case, we select ``` `normal``` feature extraction as we have a 1-to-1 mapping between features and targets. We also use ``` `class``` for the problem type as we are dealing with a binary classification problem.\n",
    "\n",
    "**NB:** For the purposes of this demonstration we will pass in a dictionary in place of the default parameter `(::)`. Here we alter the random seed parameter ``` `seed``` so that results can be replicated each time this notebook is run."
   ]
  },
  {
   "cell_type": "code",
   "execution_count": 6,
   "metadata": {},
   "outputs": [],
   "source": [
    "tab:inputs`xtrain             / features\n",
    "tgt:inputs`ytrain             / targets\n",
    "ftype:`normal                 / normal feature extraction\n",
    "ptype:`class                  / classification problem\n",
    "dict:enlist[`seed]!enlist 42  / default configuration"
   ]
  },
  {
   "cell_type": "markdown",
   "metadata": {},
   "source": [
    "### Outputs"
   ]
  },
  {
   "cell_type": "markdown",
   "metadata": {},
   "source": [
    "In the default configuration, the following items will be returned/saved during an individual run:\n",
    "\n",
    "- The best model, saved as a hdf5 file, or \"pickled\" byte object.\n",
    "- A saved report indicating the procedure taken and scores achieved.\n",
    "- A saved binary encoded dictionary denoting the procedure to be taken for reproducing results or running on new data.\n",
    "- Results from each step of the pipeline published to console.\n",
    "\n",
    "In addition to the saved outputs, the function will also return the date and time of the current run. This allows users to run the best model from the current run on new data by passing the date and time to `.automl.new` (see example [below](#Test-on-new-data)).\n",
    "\n",
    "We can now run `.automl.run` using the default setting with out training set from the  Wisconsin Breast Cancer dataset:"
   ]
  },
  {
   "cell_type": "code",
   "execution_count": 7,
   "metadata": {},
   "outputs": [
    {
     "name": "stdout",
     "output_type": "stream",
     "text": [
      "\n",
      "The following is a breakdown of information for each of the relevant columns in the dataset\n",
      "\n",
      "                       | count unique mean        std         min       max  ..\n",
      "-----------            | ----------------------------------------------------..\n",
      "mean radius            | 455   380    13.98452    3.478037    6.981     28.11..\n",
      "mean texture           | 455   395    19.07686    4.297219    9.71      39.28..\n",
      "mean perimeter         | 455   428    91.03527    23.99875    43.79     188.5..\n",
      "mean area              | 455   436    641.0963    347.1883    143.5     2501 ..\n",
      "mean smoothness        | 455   393    0.09688297  0.01444255  0.05263   0.163..\n",
      "mean compactness       | 455   434    0.1049749   0.0528815   0.01938   0.345..\n",
      "mean concavity         | 455   435    0.08842862  0.07988197  0         0.426..\n",
      "mean concave points    | 455   434    0.04846113  0.03851485  0         0.201..\n",
      "mean symmetry          | 455   357    0.1820286   0.02759591  0.1167    0.304..\n",
      "mean fractal dimension | 455   404    0.06312673  0.007300088 0.04996   0.097..\n",
      "radius error           | 455   434    0.4023281   0.286413    0.1115    2.873..\n",
      "texture error          | 455   425    1.214793    0.537705    0.3602    4.885..\n",
      "perimeter error        | 455   434    2.855731    2.086453    0.7714    21.98..\n",
      "area error             | 455   428    39.65359    47.21756    6.802     542.2..\n",
      "smoothness error       | 455   441    0.007112215 0.002930077 0.001713  0.023..\n",
      "compactness error      | 455   435    0.02576514  0.01789864  0.002252  0.135..\n",
      "concavity error        | 455   430    0.03209212  0.03136832  0         0.396..\n",
      "concave points error   | 455   415    0.01173673  0.006015582 0         0.052..\n",
      "symmetry error         | 455   407    0.02084831  0.008589528 0.007882  0.078..\n",
      "fractal dimension error| 455   437    0.003841365 0.002724884 0.0008948 0.029..\n",
      "worst radius           | 455   386    16.09195    4.71756     7.93      36.04..\n",
      "worst texture          | 455   419    25.51563    6.211024    12.02     49.54..\n",
      "..\n",
      "\n",
      "Data preprocessing complete, starting feature creation\n",
      "\n",
      "Feature creation and significance testing complete\n",
      "Starting initial model selection - allow ample time for large datasets\n",
      "\n",
      "Total features being passed to the models = 8\n"
     ]
    },
    {
     "name": "stderr",
     "output_type": "stream",
     "text": [
      "2020-01-31 12:06:24.243678: I tensorflow/core/platform/cpu_feature_guard.cc:142] Your CPU supports instructions that this TensorFlow binary was not compiled to use: AVX2 FMA\n",
      "2020-01-31 12:06:24.265949: I tensorflow/core/platform/profile_utils/cpu_utils.cc:94] CPU Frequency: 4200000000 Hz\n",
      "2020-01-31 12:06:24.266442: I tensorflow/compiler/xla/service/service.cc:168] XLA service 0x5f8dd90 executing computations on platform Host. Devices:\n",
      "2020-01-31 12:06:24.266465: I tensorflow/compiler/xla/service/service.cc:175]   StreamExecutor device (0): Host, Default Version\n"
     ]
    },
    {
     "name": "stdout",
     "output_type": "stream",
     "text": [
      "\n",
      "Scores for all models, using .ml.accuracy\n",
      "GaussianNB                | 0.9450614\n",
      "AdaBoostClassifier        | 0.9382233\n",
      "GradientBoostingClassifier| 0.9381648\n",
      "RandomForestClassifier    | 0.9348919\n",
      "LogisticRegression        | 0.9348334\n",
      "SVC                       | 0.9073641\n",
      "LinearSVC                 | 0.9040912\n",
      "MLPClassifier             | 0.8901812\n",
      "KNeighborsClassifier      | 0.8867329\n",
      "binarykeras               | 0.3777908\n",
      "\n",
      "Best scoring model = GaussianNB\n",
      "Score for validation predictions using best model = 0.9452055\n",
      "\n",
      "\n",
      "Feature impact calculated for features associated with GaussianNB model\n",
      "Plots saved in /outputs/2020.01.31/run_12.06.21.835/images/\n",
      "\n",
      "Continuing to final model fitting on holdout set\n",
      "\n",
      "Best model fitting now complete - final score on test set = 0.8901099\n",
      "\n",
      "Confusion matrix for test set:\n",
      "\n",
      "0| 33 6 \n",
      "1| 4  48\n",
      "\n",
      "Saving down procedure report to /outputs/2020.01.31/run_12.06.21.835/report/\n",
      "Saving down GaussianNB model to /outputs/2020.01.31/run_12.06.21.835/models/\n",
      "Saving down model parameters to /outputs/2020.01.31/run_12.06.21.835/config/\n",
      "\n",
      ".automl.run took 00:00:03.762\n"
     ]
    }
   ],
   "source": [
    "start:.z.t\n",
    "r1:.automl.run[tab;tgt;ftype;ptype;dict]\n",
    "-1\"\\n.automl.run took \",string .z.t-start;"
   ]
  },
  {
   "cell_type": "markdown",
   "metadata": {},
   "source": [
    "#### Feature impact (produced during the pipeline and saved in `images/`)"
   ]
  },
  {
   "cell_type": "code",
   "execution_count": 8,
   "metadata": {},
   "outputs": [
    {
     "data": {
      "text/plain": [
       "<Figure size 1440x1440 with 0 Axes>"
      ]
     },
     "metadata": {},
     "output_type": "display_data"
    },
    {
     "data": {
      "image/png": "[encoded data removed]",
      "text/plain": [
       "<Figure size 460.8x345.6 with 1 Axes>"
      ]
     },
     "metadata": {},
     "output_type": "display_data"
    }
   ],
   "source": [
    "plt[`:show][];"
   ]
  },
  {
   "cell_type": "markdown",
   "metadata": {},
   "source": [
    "We see that in the above example, 8 features were passed to the model following the application of feature extraction and significance testing. \n",
    "\n",
    "**NB:** In the default case, normal feature extraction will only use the original features passed in, while FRESH feature extraction will apply the functions available for FRESH within the ML-Toolkit.\n",
    "\n",
    "Looking at the feature impact above, we can see that `worst radius` and `area error` had the highest feature impact in the dataset when applied to the best model.\n",
    "\n",
    "We also see that expected outputs have been stored in a directory of format `/outputs/date/run_time/`"
   ]
  },
  {
   "cell_type": "markdown",
   "metadata": {},
   "source": [
    "### Test on new data"
   ]
  },
  {
   "cell_type": "markdown",
   "metadata": {},
   "source": [
    "We can apply the workflow and fitted model associated with our specified run to new data using:\n",
    "\n",
    "```.automl.new[tab;dt;tm]```\n",
    "\n",
    "Where:\n",
    "\n",
    "- `tab` is an unkeyed tabular dataset which has the same schema as the input data from the run specified in fpath\n",
    "- `dt` is the date for a specified run as a date `yyyy.mm.dd` or a string of format `\"yyyy.mm.dd\"`\n",
    "- `tm` is the timestamp for a specified run as a timestamp `hh:mm:ss.xxx` or a string of format `\"hh:mm:ss.xxx\"` or `\"hh.mm.ss.xxx\"` \n",
    "\n",
    "**NB:** Outputs from previous runs, such as `models` or `config`, are stored in the `outputs` directory and are organised such that we have the following file structure: `outputs/dt/run_tm/`, e.g. `outputs/2001.01.01/run_12.00.00.000\"`.\n",
    "\n",
    "The function will return the target predictions for new data based on the previously fitted model and workflow.\n",
    "\n",
    "Below we apply `.automl.new` to the test set we created earlier and pass in the date and time of the previous run. This will apply the best model from the previous run to our new data:"
   ]
  },
  {
   "cell_type": "code",
   "execution_count": 9,
   "metadata": {},
   "outputs": [
    {
     "name": "stdout",
     "output_type": "stream",
     "text": [
      "Run date: 2020.01.31. Run time: 12:06:21.835.\n",
      "\n",
      "Predictions: \n",
      "0 0 1 1 0 0 1 0 1 1 1 1 1 0 1 1 1 1 1 0 0 1 1 1 1 0 1 1 0 0 1 1 1 0 1 1 0 1 0..\n",
      "\n",
      "Targets:\n",
      "0 0 1 1 1 0 1 0 1 1 1 1 1 0 1 1 1 1 1 0 0 1 1 1 1 0 1 1 0 0 1 1 1 0 1 1 0 1 0..\n",
      "Accuracy on model run using held-out data: 0.9649123\n"
     ]
    }
   ],
   "source": [
    "print_runid . r1;\n",
    "-1\"\\nPredictions: \";\n",
    "show pred:.automl.new[inputs`xtest]. r1\n",
    "-1\"\\nTargets:\";\n",
    "show inputs`ytest"
   ]
  },
  {
   "cell_type": "markdown",
   "metadata": {},
   "source": [
    "We can see how the model performed using `.ml.accuracy`, used in the original default pipeline, and by producing a confusion matrix using `displayCM`:"
   ]
  },
  {
   "cell_type": "code",
   "execution_count": 10,
   "metadata": {},
   "outputs": [],
   "source": [
    "-1\"Accuracy on model run using held-out data: \",string acc1:.ml.accuracy[inputs`ytest;pred];"
   ]
  },
  {
   "cell_type": "code",
   "execution_count": 11,
   "metadata": {},
   "outputs": [
    {
     "data": {
      "image/png": "[encoded data removed]",
      "text/plain": [
       "<Figure size 360x360 with 1 Axes>"
      ]
     },
     "metadata": {},
     "output_type": "display_data"
    }
   ],
   "source": [
    "displayCM[value .ml.confmat[inputs`ytest;pred];`benign`malignant;\"Test Set Confusion Matrix\";()];"
   ]
  },
  {
   "cell_type": "markdown",
   "metadata": {},
   "source": [
    "---"
   ]
  },
  {
   "cell_type": "markdown",
   "metadata": {},
   "source": [
    "## Custom Configurations (Advanced)"
   ]
  },
  {
   "cell_type": "markdown",
   "metadata": {},
   "source": [
    "In the previous section of the notebook, we showcased how to apply default parameters within the pipeline (excluding the random seed). In this section we will focus on how the final parameter of `.automl.run` can be modified to apply changes to the default behaviour.\n",
    "\n",
    "There are two options for how this final parameter can be input:\n",
    "- **kdb+ dictionary** outlining the changes to default behaviour that are to be made\n",
    "- The path to a **flat file** containing more human readable updates to the parameter set."
   ]
  },
  {
   "cell_type": "markdown",
   "metadata": {},
   "source": [
    "### Advanced parameters"
   ]
  },
  {
   "cell_type": "markdown",
   "metadata": {},
   "source": [
    "The following lists the parameters which can be altered by users to modify the functionality of the automl platform. In each case, the parameter name corresponds to the kdb+ dictionary key which would be passed, alongside its user defined value, to the `.automl.run` function in order to update functionality.\n",
    "\n",
    "Parameters:\n",
    "\n",
    "```txt\n",
    "  aggcols     Aggregation columns for FRESH\n",
    "  funcs       Functions to be applied for feature extraction\n",
    "  gs          Grid search function and associated no. of folds/percentage\n",
    "  hld         Size of holdout set on which the final model is tested\n",
    "  saveopt     Saving options outlining what is to be saved to disk from a run\n",
    "  scf         Scoring functions for classification/regression tasks\n",
    "  seed        Random seed to be used\n",
    "  sigfeats    Feature significance procedure to be applied to the data\n",
    "  sz          Size of test set for train-test split function\n",
    "  tts         Train-test split function to be applied\n",
    "  xv          Cross validation function and associated no. of folds/percentage\n",
    "```"
   ]
  },
  {
   "cell_type": "markdown",
   "metadata": {},
   "source": [
    "### Example 1"
   ]
  },
  {
   "cell_type": "markdown",
   "metadata": {},
   "source": [
    "In this case, we have altered the parameter dictionary `p` in the following ways:\n",
    "- Added a **random seed**: Here we have altered the ``` `seed``` parameter to be `42`, the same as the example above.\n",
    "- Changed the **scoring function**: In this case we use the MSE as the scoring metric, creating a dictionary for ``` `scf``` which sets the classification scoring function to `.ml.mse`.\n",
    "- Added functions to apply during normal **feature extraction**: As mentioned above, in the default setting no functions are applied to the table during feature extraction. Below we apply `.automl.prep.i.truncsvd` and `.automl.prep.i.bulktransform` to the data."
   ]
  },
  {
   "cell_type": "code",
   "execution_count": 12,
   "metadata": {},
   "outputs": [
    {
     "name": "stdout",
     "output_type": "stream",
     "text": [
      "seed | 42\n",
      "scf  | (,`class)!,`.ml.mse\n",
      "funcs| `.automl.prep.i.truncsvd`.automl.prep.i.bulktransform\n"
     ]
    }
   ],
   "source": [
    "show p:`seed`scf`funcs!(42;enlist[`class]!enlist`.ml.mse;`.automl.prep.i.truncsvd`.automl.prep.i.bulktransform)"
   ]
  },
  {
   "cell_type": "code",
   "execution_count": 13,
   "metadata": {},
   "outputs": [
    {
     "name": "stdout",
     "output_type": "stream",
     "text": [
      "\n",
      "The following is a breakdown of information for each of the relevant columns in the dataset\n",
      "\n",
      "                       | count unique mean        std         min       max  ..\n",
      "-----------            | ----------------------------------------------------..\n",
      "mean radius            | 455   380    13.98452    3.478037    6.981     28.11..\n",
      "mean texture           | 455   395    19.07686    4.297219    9.71      39.28..\n",
      "mean perimeter         | 455   428    91.03527    23.99875    43.79     188.5..\n",
      "mean area              | 455   436    641.0963    347.1883    143.5     2501 ..\n",
      "mean smoothness        | 455   393    0.09688297  0.01444255  0.05263   0.163..\n",
      "mean compactness       | 455   434    0.1049749   0.0528815   0.01938   0.345..\n",
      "mean concavity         | 455   435    0.08842862  0.07988197  0         0.426..\n",
      "mean concave points    | 455   434    0.04846113  0.03851485  0         0.201..\n",
      "mean symmetry          | 455   357    0.1820286   0.02759591  0.1167    0.304..\n",
      "mean fractal dimension | 455   404    0.06312673  0.007300088 0.04996   0.097..\n",
      "radius error           | 455   434    0.4023281   0.286413    0.1115    2.873..\n",
      "texture error          | 455   425    1.214793    0.537705    0.3602    4.885..\n",
      "perimeter error        | 455   434    2.855731    2.086453    0.7714    21.98..\n",
      "area error             | 455   428    39.65359    47.21756    6.802     542.2..\n",
      "smoothness error       | 455   441    0.007112215 0.002930077 0.001713  0.023..\n",
      "compactness error      | 455   435    0.02576514  0.01789864  0.002252  0.135..\n",
      "concavity error        | 455   430    0.03209212  0.03136832  0         0.396..\n",
      "concave points error   | 455   415    0.01173673  0.006015582 0         0.052..\n",
      "symmetry error         | 455   407    0.02084831  0.008589528 0.007882  0.078..\n",
      "fractal dimension error| 455   437    0.003841365 0.002724884 0.0008948 0.029..\n",
      "worst radius           | 455   386    16.09195    4.71756     7.93      36.04..\n",
      "worst texture          | 455   419    25.51563    6.211024    12.02     49.54..\n",
      "..\n",
      "\n",
      "Data preprocessing complete, starting feature creation\n",
      "\n",
      "Feature creation and significance testing complete\n",
      "Starting initial model selection - allow ample time for large datasets\n",
      "\n",
      "Total features being passed to the models = 116\n",
      "\n",
      "Scores for all models, using .ml.mse\n",
      "AdaBoostClassifier        | 0.05143191\n",
      "GradientBoostingClassifier| 0.05143191\n",
      "RandomForestClassifier    | 0.05821157\n",
      "LogisticRegression        | 0.05827002\n",
      "GaussianNB                | 0.06177674\n",
      "LinearSVC                 | 0.08579778\n",
      "SVC                       | 0.09263589\n",
      "KNeighborsClassifier      | 0.1030392\n",
      "MLPClassifier             | 0.1237288\n",
      "binarykeras               | 0.3914085\n",
      "\n",
      "Best scoring model = AdaBoostClassifier\n",
      "Score for validation predictions using best model = 0.04109589\n",
      "\n",
      "\n",
      "Feature impact calculated for features associated with AdaBoostClassifier model\n",
      "Plots saved in /outputs/2020.01.31/run_12.06.28.595/images/\n",
      "\n",
      "Continuing to grid-search and final model fitting on holdout set\n",
      "\n",
      "Best model fitting now complete - final score on test set = 0.0989011\n",
      "\n",
      "Confusion matrix for test set:\n",
      "\n",
      "0| 32 7 \n",
      "1| 2  50\n",
      "\n",
      "Saving down procedure report to /outputs/2020.01.31/run_12.06.28.595/report/\n",
      "Saving down AdaBoostClassifier model to /outputs/2020.01.31/run_12.06.28.595/models/\n",
      "Saving down model parameters to /outputs/2020.01.31/run_12.06.28.595/config/\n"
     ]
    }
   ],
   "source": [
    "r2:.automl.run[inputs`xtrain;inputs`ytrain;`normal;`class;p]"
   ]
  },
  {
   "cell_type": "markdown",
   "metadata": {},
   "source": [
    "#### Feature impact (produced during the pipeline and saved in `images/`)"
   ]
  },
  {
   "cell_type": "code",
   "execution_count": 14,
   "metadata": {},
   "outputs": [
    {
     "data": {
      "text/plain": [
       "<Figure size 1440x1440 with 0 Axes>"
      ]
     },
     "metadata": {},
     "output_type": "display_data"
    },
    {
     "data": {
      "image/png": "[encoded data removed]",
      "text/plain": [
       "<Figure size 460.8x345.6 with 1 Axes>"
      ]
     },
     "metadata": {},
     "output_type": "display_data"
    },
    {
     "name": "stdout",
     "output_type": "stream",
     "text": [
      "Run date: 2020.01.31. Run time: 12:06:28.595.\n",
      "\n",
      "Predictions: \n"
     ]
    }
   ],
   "source": [
    "plt[`:show][];"
   ]
  },
  {
   "cell_type": "markdown",
   "metadata": {},
   "source": [
    "We can see in the above output that our specified changes have been applied, where the scoring function has been changed to `.ml.mse` and scores are now in ascending order as a result. Additionally, applying our specified feature extraction functions resulted in 116 features being passed to the models, with the feature impact highlighting the importance of applying truncated SVD to the original data.\n",
    "\n",
    "We can now predict on the held-out data and compare accuracy results to the default case."
   ]
  },
  {
   "cell_type": "code",
   "execution_count": 15,
   "metadata": {},
   "outputs": [
    {
     "name": "stdout",
     "output_type": "stream",
     "text": [
      "0 0 1 1 0 0 1 0 1 1 1 1 1 0 1 1 1 1 1 0 0 1 1 1 1 0 1 1 0 0 1 1 1 0 1 1 0 1 0..\n",
      "\n",
      "Targets:\n",
      "0 0 1 1 1 0 1 0 1 1 1 1 1 0 1 1 1 1 1 0 0 1 1 1 1 0 1 1 0 0 1 1 1 0 1 1 0 1 0..\n"
     ]
    }
   ],
   "source": [
    "print_runid . r2;\n",
    "-1\"\\nPredictions: \";\n",
    "show pred:.automl.new[inputs`xtest]. r2\n",
    "-1\"\\nTargets:\";\n",
    "show inputs`ytest"
   ]
  },
  {
   "cell_type": "code",
   "execution_count": 16,
   "metadata": {},
   "outputs": [
    {
     "name": "stdout",
     "output_type": "stream",
     "text": [
      "Run date: 2020.01.31. Run time: 12:06:21.835.\n",
      "Accuracy on default model run using held-out data: 0.9649123\n",
      "\n",
      "Run date: 2020.01.31. Run time: 12:06:28.595.\n",
      "Accuracy on custom model run using held-out data : 0.9824561\n"
     ]
    }
   ],
   "source": [
    "print_runid . r1;\n",
    "-1\"Accuracy on default model run using held-out data: \",string[acc1],\"\\n\";\n",
    "print_runid . r2;\n",
    "-1\"Accuracy on custom model run using held-out data : \",string .ml.accuracy[inputs`ytest;pred];"
   ]
  },
  {
   "cell_type": "markdown",
   "metadata": {},
   "source": [
    "We can see that by adding feature extraction in the normal case we have improved our accuracy. This is highlighted in the confusion matrix below."
   ]
  },
  {
   "cell_type": "code",
   "execution_count": 17,
   "metadata": {},
   "outputs": [
    {
     "data": {
      "image/png": "[encoded data removed]",
      "text/plain": [
       "<Figure size 360x360 with 1 Axes>"
      ]
     },
     "metadata": {},
     "output_type": "display_data"
    }
   ],
   "source": [
    "displayCM[value .ml.confmat[inputs`ytest;pred];`benign`malignant;\"Test Set Confusion Matrix\";()];"
   ]
  },
  {
   "cell_type": "markdown",
   "metadata": {},
   "source": [
    "### Example 2"
   ]
  },
  {
   "cell_type": "markdown",
   "metadata": {},
   "source": [
    "In this example we highlight how to change the save options, contained under ``` `saveopt``` within the parameter dictionary.\n",
    "\n",
    "In the default case, used in both examples above, the system will save all outputs to disk (reports, images, config file and models). This can be altered by the user to reduce the number of outputs saved to disk, where:\n",
    "\n",
    "- `0` = Nothing is saved the models will run and display results to console but nothing persisted\n",
    "- `1` = Save the model and configuration file only, will not generate a report for the user or any images\n",
    "- `2` = Save all possible outputs to disk for the user including reports, images, config and models\n",
    "\n",
    "We demonstrate the case for `0` below."
   ]
  },
  {
   "cell_type": "code",
   "execution_count": 18,
   "metadata": {},
   "outputs": [
    {
     "name": "stdout",
     "output_type": "stream",
     "text": [
      "\n",
      "The following is a breakdown of information for each of the relevant columns in the dataset\n",
      "\n",
      "                       | count unique mean        std         min       max  ..\n",
      "-----------            | ----------------------------------------------------..\n",
      "mean radius            | 455   380    13.98452    3.478037    6.981     28.11..\n",
      "mean texture           | 455   395    19.07686    4.297219    9.71      39.28..\n",
      "mean perimeter         | 455   428    91.03527    23.99875    43.79     188.5..\n",
      "mean area              | 455   436    641.0963    347.1883    143.5     2501 ..\n",
      "mean smoothness        | 455   393    0.09688297  0.01444255  0.05263   0.163..\n",
      "mean compactness       | 455   434    0.1049749   0.0528815   0.01938   0.345..\n",
      "mean concavity         | 455   435    0.08842862  0.07988197  0         0.426..\n",
      "mean concave points    | 455   434    0.04846113  0.03851485  0         0.201..\n",
      "mean symmetry          | 455   357    0.1820286   0.02759591  0.1167    0.304..\n",
      "mean fractal dimension | 455   404    0.06312673  0.007300088 0.04996   0.097..\n",
      "radius error           | 455   434    0.4023281   0.286413    0.1115    2.873..\n",
      "texture error          | 455   425    1.214793    0.537705    0.3602    4.885..\n",
      "perimeter error        | 455   434    2.855731    2.086453    0.7714    21.98..\n",
      "area error             | 455   428    39.65359    47.21756    6.802     542.2..\n",
      "smoothness error       | 455   441    0.007112215 0.002930077 0.001713  0.023..\n",
      "compactness error      | 455   435    0.02576514  0.01789864  0.002252  0.135..\n",
      "concavity error        | 455   430    0.03209212  0.03136832  0         0.396..\n",
      "concave points error   | 455   415    0.01173673  0.006015582 0         0.052..\n",
      "symmetry error         | 455   407    0.02084831  0.008589528 0.007882  0.078..\n",
      "fractal dimension error| 455   437    0.003841365 0.002724884 0.0008948 0.029..\n",
      "worst radius           | 455   386    16.09195    4.71756     7.93      36.04..\n",
      "worst texture          | 455   419    25.51563    6.211024    12.02     49.54..\n",
      "..\n",
      "\n",
      "Data preprocessing complete, starting feature creation\n",
      "\n",
      "Feature creation and significance testing complete\n",
      "Starting initial model selection - allow ample time for large datasets\n",
      "\n",
      "Total features being passed to the models = 8\n",
      "\n",
      "Scores for all models, using .ml.accuracy\n",
      "GradientBoostingClassifier| 0.9414962\n",
      "RandomForestClassifier    | 0.9381064\n",
      "GaussianNB                | 0.9381064\n",
      "AdaBoostClassifier        | 0.9277615\n",
      "LogisticRegression        | 0.9105202\n",
      "SVC                       | 0.9003507\n",
      "MLPClassifier             | 0.896844\n",
      "KNeighborsClassifier      | 0.8900058\n",
      "LinearSVC                 | 0.858796\n",
      "binarykeras               | 0.4677382\n",
      "\n",
      "Best scoring model = GradientBoostingClassifier\n",
      "Score for validation predictions using best model = 0.9178082\n",
      "\n",
      "Continuing to grid-search and final model fitting on holdout set\n",
      "\n",
      "Best model fitting now complete - final score on test set = 0.9120879\n",
      "\n",
      "Confusion matrix for test set:\n",
      "\n",
      "0| 28 5 \n",
      "1| 3  55\n"
     ]
    }
   ],
   "source": [
    ".automl.run[inputs`xtrain;inputs`ytrain;`normal;`class;enlist[`saveopt]!enlist 0];"
   ]
  },
  {
   "cell_type": "markdown",
   "metadata": {},
   "source": [
    "We see that nothing has been saved down during a single run of the pipeline."
   ]
  },
  {
   "cell_type": "markdown",
   "metadata": {},
   "source": [
    "### Example 3"
   ]
  },
  {
   "cell_type": "markdown",
   "metadata": {},
   "source": [
    "We have shown in the previous examples that the pipeline can be altered by passing in a dictionary of parameters as the last argument in `.automl.run`. As mentioned above, we can also pass the path to a flat file.\n",
    "\n",
    "Default flat files are contained within `automl/code/models/` where users can change parameters within each file. If these files have been changed from the default setting and a user wishes to re-save the original, we can do so using the following:"
   ]
  },
  {
   "cell_type": "code",
   "execution_count": 19,
   "metadata": {},
   "outputs": [],
   "source": [
    ".automl.savedefault[\"new_normal_defaults.txt\";`normal]"
   ]
  },
  {
   "cell_type": "markdown",
   "metadata": {},
   "source": [
    "We can then run the pipeline using this new file as our final argument:"
   ]
  },
  {
   "cell_type": "code",
   "execution_count": 20,
   "metadata": {},
   "outputs": [
    {
     "name": "stdout",
     "output_type": "stream",
     "text": [
      "\n",
      "The following is a breakdown of information for each of the relevant columns in the dataset\n",
      "\n",
      "                       | count unique mean        std         min       max  ..\n",
      "-----------            | ----------------------------------------------------..\n",
      "mean radius            | 455   380    13.98452    3.478037    6.981     28.11..\n",
      "mean texture           | 455   395    19.07686    4.297219    9.71      39.28..\n",
      "mean perimeter         | 455   428    91.03527    23.99875    43.79     188.5..\n",
      "mean area              | 455   436    641.0963    347.1883    143.5     2501 ..\n",
      "mean smoothness        | 455   393    0.09688297  0.01444255  0.05263   0.163..\n",
      "mean compactness       | 455   434    0.1049749   0.0528815   0.01938   0.345..\n",
      "mean concavity         | 455   435    0.08842862  0.07988197  0         0.426..\n",
      "mean concave points    | 455   434    0.04846113  0.03851485  0         0.201..\n",
      "mean symmetry          | 455   357    0.1820286   0.02759591  0.1167    0.304..\n",
      "mean fractal dimension | 455   404    0.06312673  0.007300088 0.04996   0.097..\n",
      "radius error           | 455   434    0.4023281   0.286413    0.1115    2.873..\n",
      "texture error          | 455   425    1.214793    0.537705    0.3602    4.885..\n",
      "perimeter error        | 455   434    2.855731    2.086453    0.7714    21.98..\n",
      "area error             | 455   428    39.65359    47.21756    6.802     542.2..\n",
      "smoothness error       | 455   441    0.007112215 0.002930077 0.001713  0.023..\n",
      "compactness error      | 455   435    0.02576514  0.01789864  0.002252  0.135..\n",
      "concavity error        | 455   430    0.03209212  0.03136832  0         0.396..\n",
      "concave points error   | 455   415    0.01173673  0.006015582 0         0.052..\n",
      "symmetry error         | 455   407    0.02084831  0.008589528 0.007882  0.078..\n",
      "fractal dimension error| 455   437    0.003841365 0.002724884 0.0008948 0.029..\n",
      "worst radius           | 455   386    16.09195    4.71756     7.93      36.04..\n",
      "worst texture          | 455   419    25.51563    6.211024    12.02     49.54..\n",
      "..\n",
      "\n",
      "Data preprocessing complete, starting feature creation\n",
      "\n",
      "Feature creation and significance testing complete\n",
      "Starting initial model selection - allow ample time for large datasets\n",
      "\n",
      "Total features being passed to the models = 8\n",
      "\n",
      "Scores for all models, using .ml.accuracy\n",
      "GradientBoostingClassifier| 0.9517826\n",
      "GaussianNB                | 0.9449445\n",
      "RandomForestClassifier    | 0.9414378\n",
      "LogisticRegression        | 0.9380479\n",
      "AdaBoostClassifier        | 0.9345996\n",
      "MLPClassifier             | 0.9244302\n",
      "LinearSVC                 | 0.9243133\n",
      "SVC                       | 0.9140853\n",
      "KNeighborsClassifier      | 0.9003507\n",
      "binarykeras               | 0.6324956\n",
      "\n",
      "Best scoring model = GradientBoostingClassifier\n",
      "Score for validation predictions using best model = 0.8630137\n",
      "\n",
      "\n",
      "Feature impact calculated for features associated with GradientBoostingClassifier model\n",
      "Plots saved in /outputs/2020.01.31/run_12.07.36.205/images/\n",
      "\n",
      "Continuing to grid-search and final model fitting on holdout set\n",
      "\n",
      "Best model fitting now complete - final score on test set = 0.9120879\n",
      "\n",
      "Confusion matrix for test set:\n",
      "\n",
      "0| 25 6 \n",
      "1| 2  58\n",
      "\n",
      "Saving down procedure report to /outputs/2020.01.31/run_12.07.36.205/report/\n",
      "Saving down GradientBoostingClassifier model to /outputs/2020.01.31/run_12.07.36.205/models/\n",
      "Saving down model parameters to /outputs/2020.01.31/run_12.07.36.205/config/\n"
     ]
    }
   ],
   "source": [
    ".automl.run[inputs`xtrain;inputs`ytrain;`normal;`class;\"new_normal_defaults.txt\"];"
   ]
  },
  {
   "cell_type": "markdown",
   "metadata": {},
   "source": [
    "---"
   ]
  }
 ],
 "metadata": {
  "kernelspec": {
   "display_name": "Q (kdb+)",
   "language": "q",
   "name": "qpk"
  },
  "language_info": {
   "file_extension": ".q",
   "mimetype": "text/x-q",
   "name": "q",
   "version": "3.6.0"
  }
 },
 "nbformat": 4,
 "nbformat_minor": 2
}
