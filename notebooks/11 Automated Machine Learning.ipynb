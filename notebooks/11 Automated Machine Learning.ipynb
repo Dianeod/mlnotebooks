{
 "cells": [
  {
   "cell_type": "markdown",
   "metadata": {},
   "source": [
    "# Machine Learning Demonstrations"
   ]
  },
  {
   "cell_type": "markdown",
   "metadata": {},
   "source": [
    "In this notebook, we demonstrated how to use the Kx kdb+/q Automated Machine Learning library. The example below use samples from the Telco Customer Churn dataset.\n",
    "\n",
    "<div class=\"alert alert-danger\">\n",
    "To run the below notebook, ensure that dependencies specified in <b>requirements.txt</b> have been correctly installed.\n",
    "</div>"
   ]
  },
  {
   "cell_type": "markdown",
   "metadata": {},
   "source": [
    "## Machine Learning Toolkit"
   ]
  },
  {
   "cell_type": "markdown",
   "metadata": {},
   "source": [
    "The Machine Learning Toolkit ([ML-Toolkit](https://github.com/KxSystems/ml)) contains general use utilities, an implementation of the FRESH (Feature Extraction based on Scalable Hypothesis tests) algorithm and cross validation functions. The primary purpose of these libraries are to provide kdb+/q users with access to commonly-used ML functions for preprocessing data, extracting features and scoring results."
   ]
  },
  {
   "cell_type": "markdown",
   "metadata": {},
   "source": [
    "## Automated Machine Learning in kdb+/q"
   ]
  },
  {
   "cell_type": "markdown",
   "metadata": {},
   "source": [
    "The kdb+/q [Automated Machine Learning](https://github.com/kxsystems/automl/) library is built largely on the tools available within the kdb+/q ML-Toolkit. The purpose of this library is to provide users with the ability to automate the process of applying machine learning techniques to real-world problems. In the absence of expert machine learning engineers this framework handles the following processes within a traditional workflow:\n",
    "\n",
    "- Data preprocessing\n",
    "- Feature engineering and feature selection\n",
    "- Model selection\n",
    "- Hyperparameter Tuning\n",
    "- Report generation and model persistence\n",
    "\n",
    "Each of these steps is outlined in depth within the documentation for this platform [here](https://code.kx.com/ml/automl). This allows users to understand the processes by which decisions are being made and the transformations which their data undergo during the production of the output models.\n",
    "\n",
    "At present the supported machine learning problem types are classification and regression are based on:\n",
    "\n",
    "- One-to-one feature to target non time-series\n",
    "- FRESH based feature extraction and model production\n",
    "\n",
    "The problems which can be solved by this framework will be expanded over time as will the available functionality."
   ]
  },
  {
   "cell_type": "markdown",
   "metadata": {},
   "source": [
    "### Multi-processing\n",
    "\n",
    "This library supports multi-processed grid-search/cross-validation procedures and FRESH feature creation provided a user set `-s -8` in the JUPYTERQ_SERVERARGS, access to which can be found [here](https://code.kx.com/q/ml/jupyterq/notebooks/#server-command-line-arguments). In this demo, we use 8 worker processes and open a centralised port as below."
   ]
  },
  {
   "cell_type": "code",
   "execution_count": 1,
   "metadata": {},
   "outputs": [],
   "source": [
    "\\p 5124"
   ]
  },
  {
   "cell_type": "markdown",
   "metadata": {},
   "source": [
    "The Kx Automated Machine Learning library is then loaded in as follows:"
   ]
  },
  {
   "cell_type": "code",
   "execution_count": 2,
   "metadata": {
    "scrolled": true
   },
   "outputs": [],
   "source": [
    "// load in automl\n",
    "\\l automl/automl.q\n",
    ".automl.loadfile`:init.q"
   ]
  },
  {
   "cell_type": "markdown",
   "metadata": {},
   "source": [
    "---"
   ]
  },
  {
   "cell_type": "markdown",
   "metadata": {},
   "source": [
    "## Telco Customer Churn"
   ]
  },
  {
   "cell_type": "markdown",
   "metadata": {},
   "source": [
    "The [Telco Customer Churn dataset](https://www.kaggle.com/blastchar/telco-customer-churn/data) contains entries for 7043 customers. In each case below, we aim to create a model which can accurately predict customer churn based on 20 features relating to each customer.\n",
    "\n",
    "Below we load in the data and select a subset of 5000 random data points to train and test the pipeline on. We also load in additional graphics and utility functions required throughout this notebook."
   ]
  },
  {
   "cell_type": "markdown",
   "metadata": {},
   "source": [
    "### Load data"
   ]
  },
  {
   "cell_type": "code",
   "execution_count": 3,
   "metadata": {},
   "outputs": [],
   "source": [
    "// load utils\n",
    "\\l ../utils/util.q\n",
    "\\l ../utils/graphics.q"
   ]
  },
  {
   "cell_type": "code",
   "execution_count": 4,
   "metadata": {},
   "outputs": [
    {
     "name": "stdout",
     "output_type": "stream",
     "text": [
      "Shape of feature data is: 5000 x 20\n",
      "\n",
      "customerID gender SeniorCitizen Partner Dependents tenure PhoneService Multip..\n",
      "-----------------------------------------------------------------------------..\n",
      "5382-TEMLV Male   0             No      No         45     Yes          No    ..\n",
      "5827-MWCZK Male   0             Yes     Yes        56     Yes          Yes   ..\n",
      "3086-RUCRN Female 0             No      No         66     Yes          Yes   ..\n",
      "5965-GGPRW Male   0             Yes     Yes        72     Yes          Yes   ..\n",
      "2887-JPYLU Female 0             No      Yes        41     Yes          No    ..\n",
      "\n",
      "Distribution of target values:\n",
      "\n",
      "target| num  pcnt \n",
      "------| ----------\n",
      "0     | 3637 72.74\n",
      "1     | 1363 27.26\n"
     ]
    }
   ],
   "source": [
    "\\S 42\n",
    "\n",
    "// load data and separate into features and target\n",
    "data:5000?(\"SSBSSISSSSSSSSSSSSFFS\";(),\",\")0:`:../data/telco.csv\n",
    "targ:(`No`Yes!0 1)data`Churn\n",
    "feat:delete Churn from data\n",
    "\n",
    "// inspect data\n",
    "-1\"Shape of feature data is: \",(\" x \"sv string .ml.shape feat),\"\\n\";\n",
    "show 5#feat\n",
    "-1\"\\nDistribution of target values:\\n\";\n",
    "show update pcnt:round[;.01]100*num%sum num from select num:count i by target from([]target:targ);"
   ]
  },
  {
   "cell_type": "markdown",
   "metadata": {},
   "source": [
    "### User Interface"
   ]
  },
  {
   "cell_type": "markdown",
   "metadata": {},
   "source": [
    "At the highest level the automated machine learning library contains two primary callable functions:\n",
    "\n",
    "- `.automl.run` = Run the automated machine learning pipeline on user defined data and target\n",
    "- `.automl.new` = Using a previously fit model and set of instructions to produce an appropriate pipeline derived from a defined run, predict the target value for new tabular data\n",
    "\n",
    "Both of these functions are modifiable by a user to suit specific use cases and have been designed to cover a wide range of functional options and to be extensible to a users needs."
   ]
  },
  {
   "cell_type": "markdown",
   "metadata": {},
   "source": [
    "### Prepare data"
   ]
  },
  {
   "cell_type": "markdown",
   "metadata": {},
   "source": [
    "As we want to run both `.automl.run` and `.automl.new` we start by splitting our data into a training and testing set, where 10% has been chosen for the testing set. Note that we have set a random seed so that results can be replicated."
   ]
  },
  {
   "cell_type": "code",
   "execution_count": 5,
   "metadata": {},
   "outputs": [
    {
     "name": "stdout",
     "output_type": "stream",
     "text": [
      "xtrain| +`customerID`gender`SeniorCitizen`Partner`Dependents`tenure`PhoneServ..\n",
      "ytrain| 0 0 1 0 1 0 1 1 1 0 1 0 0 0 1 1 0 0 1 1 0 0 0 1 1 0 0 0 0 0 0 0 0 1 0..\n",
      "xtest | +`customerID`gender`SeniorCitizen`Partner`Dependents`tenure`PhoneServ..\n",
      "ytest | 0 1 0 0 1 0 0 0 0 0 1 0 0 0 0 0 0 0 0 0 0 0 0 0 0 0 0 1 1 0 0 0 1 0 0..\n"
     ]
    }
   ],
   "source": [
    "\\S 42\n",
    "show inputs:.ml.traintestsplit[feat;targ;.1]"
   ]
  },
  {
   "cell_type": "markdown",
   "metadata": {},
   "source": [
    "---"
   ]
  },
  {
   "cell_type": "markdown",
   "metadata": {},
   "source": [
    "## Contents\n",
    "\n",
    "Below, the notebook has been split into 2 distinct sections:\n",
    "1. [Default Configurations](#Default-Configurations)\n",
    "2. [Custom Configurations (Advanced)](#Custom-Configurations-(Advanced))"
   ]
  },
  {
   "cell_type": "markdown",
   "metadata": {},
   "source": [
    "---"
   ]
  },
  {
   "cell_type": "markdown",
   "metadata": {},
   "source": [
    "## Default Configurations"
   ]
  },
  {
   "cell_type": "markdown",
   "metadata": {},
   "source": [
    "### Inputs"
   ]
  },
  {
   "cell_type": "markdown",
   "metadata": {},
   "source": [
    "Below we demonstrate how to apply `.automl.run` to our features and targets in the default setting, where the function has the syntax:\n",
    "\n",
    "```.automl.run[tab;tgt;ftype;ptype;dict]```\n",
    "\n",
    "Where:\n",
    "- `tab` is unkeyed tabular data from which the models will be created\n",
    "- `tgt` is the target vector\n",
    "- `ftype` type of feature extraction being completed on the dataset as a symbol (``` `fresh```/``` `normal```)\n",
    "- `ptype` type of problem, regression/class, as a symbol (``` `reg```/``` `class```)\n",
    "- `dict` is one of `(::)` for default behaviour, a kdb+ dictionary or path to a user defined flat file for modifying default parameters.\n",
    "\n",
    "In this case, we select ``` `normal``` feature extraction as we have a 1-to-1 mapping between features and targets. We also use ``` `class``` for the problem type as we are dealing with a binary classification problem.\n",
    "\n",
    "**NB:** For the purposes of this demonstration we will pass in a dictionary in place of the default parameter `(::)`. In order to ensure replication for users of this notebook the random seed parameter ``` `seed``` is set in this example with the remaining parameters defaulted."
   ]
  },
  {
   "cell_type": "code",
   "execution_count": 6,
   "metadata": {},
   "outputs": [],
   "source": [
    "tab:inputs`xtrain             / features\n",
    "tgt:inputs`ytrain             / targets\n",
    "ftype:`normal                 / normal feature extraction\n",
    "ptype:`class                  / classification problem\n",
    "dict:enlist[`seed]!enlist 42  / default configuration"
   ]
  },
  {
   "cell_type": "markdown",
   "metadata": {},
   "source": [
    "### Outputs"
   ]
  },
  {
   "cell_type": "markdown",
   "metadata": {},
   "source": [
    "In the default configuration, the following items will be returned/saved during an individual run:\n",
    "\n",
    "- The best model, saved as a hdf5 file for keras models, or \"pickled\" byte objects for sklearn models.\n",
    "- A saved report indicating the procedure taken and scores achieved.\n",
    "- A saved byte encoded dictionary denoting the procedure to be taken for reproducing results or running on new data.\n",
    "- Results from each step of the pipeline published to console.\n",
    "\n",
    "In addition to the saved outputs, the function will also return the date and time of the current run. This allows users to run the best model from a defined run on new data by passing the date and time to `.automl.new` (see example [below](#Test-on-new-data)).\n",
    "\n",
    "We can now run `.aml.run` using the default setting with out training set from the Telco Customer Churn dataset."
   ]
  },
  {
   "cell_type": "code",
   "execution_count": 7,
   "metadata": {
    "scrolled": false
   },
   "outputs": [
    {
     "name": "stdout",
     "output_type": "stream",
     "text": [
      "\n",
      "The following is a breakdown of information for each of the relevant columns in the dataset\n",
      "\n",
      "                | count unique mean     std      min   max     type       \n",
      "------          | --------------------------------------------------------\n",
      "tenure          | 4500  73     32.326   24.55931 0i    72i     numeric    \n",
      "MonthlyCharges  | 4500  1251   64.88498 30.49795 18.55 118.75  numeric    \n",
      "TotalCharges    | 4500  3178   2284.252 2275.078 18.85 8672.45 numeric    \n",
      "customerID      | 4500  3310   ::       ::       ::    ::      categorical\n",
      "gender          | 4500  2      ::       ::       ::    ::      categorical\n",
      "Partner         | 4500  2      ::       ::       ::    ::      categorical\n",
      "Dependents      | 4500  2      ::       ::       ::    ::      categorical\n",
      "PhoneService    | 4500  2      ::       ::       ::    ::      categorical\n",
      "MultipleLines   | 4500  3      ::       ::       ::    ::      categorical\n",
      "InternetService | 4500  3      ::       ::       ::    ::      categorical\n",
      "OnlineSecurity  | 4500  3      ::       ::       ::    ::      categorical\n",
      "OnlineBackup    | 4500  3      ::       ::       ::    ::      categorical\n",
      "DeviceProtection| 4500  3      ::       ::       ::    ::      categorical\n",
      "TechSupport     | 4500  3      ::       ::       ::    ::      categorical\n",
      "StreamingTV     | 4500  3      ::       ::       ::    ::      categorical\n",
      "StreamingMovies | 4500  3      ::       ::       ::    ::      categorical\n",
      "Contract        | 4500  3      ::       ::       ::    ::      categorical\n",
      "PaperlessBilling| 4500  2      ::       ::       ::    ::      categorical\n",
      "PaymentMethod   | 4500  4      ::       ::       ::    ::      categorical\n",
      "SeniorCitizen   | 4500  2      ::       ::       ::    ::      boolean    \n",
      "\n",
      "Data preprocessing complete, starting feature creation\n",
      "\n",
      "Feature creation and significance testing complete\n",
      "Starting initial model selection - allow ample time for large datasets\n",
      "\n",
      "Total features being passed to the models = 8\n",
      "\n",
      "Scores for all models, using .ml.accuracy\n",
      "RandomForestClassifier    | 0.8038194\n",
      "MLPClassifier             | 0.7996528\n",
      "GradientBoostingClassifier| 0.7972222\n",
      "AdaBoostClassifier        | 0.7958333\n",
      "LogisticRegression        | 0.7923611\n",
      "KNeighborsClassifier      | 0.784375\n",
      "binarykeras               | 0.7815972\n",
      "SVC                       | 0.7572917\n",
      "GaussianNB                | 0.7413194\n",
      "LinearSVC                 | 0.6947917\n",
      "\n",
      "Best scoring model = RandomForestClassifier\n",
      "Score for validation predictions using best model = 0.7916667\n",
      "\n",
      "\n",
      "Feature impact calculated for features associated with RandomForestClassifier model\n",
      "Plots saved in /outputs/2020.02.28/run_14.30.06.704/images/\n",
      "\n",
      "Continuing to grid-search and final model fitting on holdout set\n",
      "\n",
      "Best model fitting now complete - final score on test set = 0.8033333\n",
      "\n",
      "Confusion matrix for test set:\n",
      "\n",
      "      | pred_0 pred_1\n",
      "------| -------------\n",
      "true_0| 572    88    \n",
      "true_1| 89     151   \n",
      "\n",
      "Saving down procedure report to /outputs/2020.02.28/run_14.30.06.704/report/\n",
      "Saving down RandomForestClassifier model to /outputs/2020.02.28/run_14.30.06.704/models/\n",
      "Saving down model parameters to /outputs/2020.02.28/run_14.30.06.704/config/\n",
      "\n",
      ".aml.run took 00:02:07.231\n"
     ]
    }
   ],
   "source": [
    "start:.z.t\n",
    "r1:.automl.run[tab;tgt;ftype;ptype;dict]\n",
    "-1\"\\n.automl.run took \",string .z.t-start;"
   ]
  },
  {
   "cell_type": "code",
   "execution_count": 8,
   "metadata": {},
   "outputs": [
    {
     "data": {
      "text/plain": [
       "<Figure size 1440x1440 with 0 Axes>"
      ]
     },
     "metadata": {},
     "output_type": "display_data"
    },
    {
     "data": {
      "image/png": "[encoded data removed]",
      "text/plain": [
       "<Figure size 460.8x345.6 with 1 Axes>"
      ]
     },
     "metadata": {},
     "output_type": "display_data"
    },
    {
     "data": {
      "image/png": "[encoded data removed]",
      "text/plain": [
       "<Figure size 360x360 with 1 Axes>"
      ]
     },
     "metadata": {},
     "output_type": "display_data"
    }
   ],
   "source": [
    "plt[`:show][];"
   ]
  },
  {
   "cell_type": "markdown",
   "metadata": {},
   "source": [
    "#### Feature impact\n",
    "\n",
    "We see that in the above example, 8 features were passed to the model following the application of feature extraction and significance testing. \n",
    "\n",
    "**NB:** In the default case, normal feature extraction only uses the original features passed into the system, while FRESH feature extraction would apply the functions available for FRESH within the ML-Toolkit as defined by `.ml.fresh.params`.\n",
    "\n",
    "Looking at the feature impact above, we can see that `tenure` had the highest feature impact in the dataset when applied to the best model.\n",
    "\n",
    "#### Confusion matrix\n",
    "\n",
    "A confusion matrix is also produced within the pipeline for classification problems. We see that the final `RandomForestClassifier` model correctly classified 723 data points. \n",
    "\n",
    "All other outputs from this run have been stored in a directory of format `/outputs/date/run_time/`"
   ]
  },
  {
   "cell_type": "markdown",
   "metadata": {},
   "source": [
    "### Test on new data"
   ]
  },
  {
   "cell_type": "markdown",
   "metadata": {},
   "source": [
    "We can apply the workflow and fitted model associated with our specified run to new data using:\n",
    "\n",
    "```.automl.new[tab;dt;tm]```\n",
    "\n",
    "Where:\n",
    "\n",
    "- `tab` is an unkeyed tabular dataset which has the same schema as the input data from the run specified in fpath\n",
    "- `dt` is the date for a specified run as a date `yyyy.mm.dd` or a string of format `\"yyyy.mm.dd\"`\n",
    "- `tm` is the timestamp for a specified run as a timestamp `hh:mm:ss.xxx` or a string of format `\"hh:mm:ss.xxx\"` or `\"hh.mm.ss.xxx\"` \n",
    "\n",
    "**NB:** Outputs from previous runs, such as `models` or `config`, are stored in the `outputs` directory and are organised such that we have the following file structure: `outputs/dt/run_tm/`, e.g. `outputs/2001.01.01/run_12.00.00.000\"`.\n",
    "\n",
    "The function will return the target predictions for new data based on the previously fitted model and workflow.\n",
    "\n",
    "Below we apply `.automl.new` to the test set we created earlier and pass in the date and time of the previous run. This will apply the best model from the run above to our new data:"
   ]
  },
  {
   "cell_type": "code",
   "execution_count": 9,
   "metadata": {},
   "outputs": [
    {
     "name": "stdout",
     "output_type": "stream",
     "text": [
      "Run date: 2020.02.28. Run time: 14:30:06.704.\n",
      "\n",
      "Predictions: \n",
      "0 1 0 0 0 0 0 0 1 0 1 0 0 0 1 0 1 0 0 0 0 0 0 1 0 0 1 1 1 0 0 0 1 0 0 0 0 1 0..\n",
      "\n",
      "Targets:\n",
      "0 1 0 0 1 0 0 0 0 0 1 0 0 0 0 0 0 0 0 0 0 0 0 0 0 0 0 1 1 0 0 0 1 0 0 0 0 1 0..\n"
     ]
    }
   ],
   "source": [
    "// What run is being applied to the dataset?\n",
    "print_runid . r1;\n",
    "-1\"\\nPredictions: \";\n",
    "show pred:.automl.new[inputs`xtest]. r1\n",
    "-1\"\\nTargets:\";\n",
    "show inputs`ytest"
   ]
  },
  {
   "cell_type": "markdown",
   "metadata": {},
   "source": [
    "We can see how the model performed using `.ml.accuracy`, used in the original default pipeline, and by producing a confusion matrix using `displayCM`:"
   ]
  },
  {
   "cell_type": "code",
   "execution_count": 10,
   "metadata": {},
   "outputs": [
    {
     "name": "stdout",
     "output_type": "stream",
     "text": [
      "Accuracy on model run using held-out data: 0.816\n"
     ]
    }
   ],
   "source": [
    "-1\"Accuracy on model run using hold-out data: \",string acc1:.ml.accuracy[inputs`ytest;pred];"
   ]
  },
  {
   "cell_type": "code",
   "execution_count": 11,
   "metadata": {},
   "outputs": [
    {
     "data": {
      "image/png": "[encoded data removed]",
      "text/plain": [
       "<Figure size 360x360 with 1 Axes>"
      ]
     },
     "metadata": {},
     "output_type": "display_data"
    }
   ],
   "source": [
    "displayCM[value .ml.confmat[inputs`ytest;pred];`0`1;\"Test Set Confusion Matrix\";()];"
   ]
  },
  {
   "cell_type": "markdown",
   "metadata": {},
   "source": [
    "---"
   ]
  },
  {
   "cell_type": "markdown",
   "metadata": {},
   "source": [
    "## Custom Configurations (Advanced)"
   ]
  },
  {
   "cell_type": "markdown",
   "metadata": {},
   "source": [
    "In the previous section of the notebook, we showcased how to apply default parameters within the pipeline (excluding the random seed). In this section we will focus on how the final parameter of `.automl.run` can be modified to apply changes to the default behaviour.\n",
    "\n",
    "There are two options for how this final parameter can be input:\n",
    "- **kdb+ dictionary** outlining the changes to default behaviour that are to be made\n",
    "- The path to a **flat file** containing more human readable configuration updates."
   ]
  },
  {
   "cell_type": "markdown",
   "metadata": {},
   "source": [
    "### Advanced parameters"
   ]
  },
  {
   "cell_type": "markdown",
   "metadata": {},
   "source": [
    "The following lists the parameters which can be altered by users to modify the functionality of the automl platform. In each case, the parameter name corresponds to the kdb+ dictionary key which would be passed, alongside its user defined value, to the `.automl.run` function in order to update functionality.\n",
    "\n",
    "Parameters:\n",
    "\n",
    "```txt\n",
    "  aggcols     Aggregation columns for FRESH\n",
    "  funcs       Functions to be applied for feature extraction\n",
    "  gs          Grid search function and associated no. of folds/percentage\n",
    "  hld         Size of holdout set on which the final model is tested\n",
    "  saveopt     Saving options outlining what is to be saved to disk from a run\n",
    "  scf         Scoring functions for classification/regression tasks\n",
    "  seed        Random seed to be used\n",
    "  sigfeats    Feature significance procedure to be applied to the data\n",
    "  sz          Size of test set for train-test split function\n",
    "  tts         Train-test split function to be applied\n",
    "  xv          Cross validation function and associated no. of folds/percentage\n",
    "```"
   ]
  },
  {
   "cell_type": "markdown",
   "metadata": {},
   "source": [
    "### Example 1"
   ]
  },
  {
   "cell_type": "markdown",
   "metadata": {},
   "source": [
    "In this case, we have altered the parameter dictionary `p` in the following ways:\n",
    "1. Added a **random seed**: Here we have altered the ``` `seed``` parameter to be `75`.\n",
    "2. Added **feature extraction**: As mentioned above, in the default setting no functions are applied to the table during feature extraction. Below we apply `.automl.prep.i.truncsvd` to the data, this is a truncated singular value decomposition outlined [here](https://scikit-learn.org/stable/modules/generated/sklearn.decomposition.TruncatedSVD.html) and applied to all combinations of columns of type float.\n",
    "3. Changed the size of the **testing** and **holdout** sets to be 10% of the data at each stage."
   ]
  },
  {
   "cell_type": "code",
   "execution_count": 12,
   "metadata": {},
   "outputs": [
    {
     "name": "stdout",
     "output_type": "stream",
     "text": [
      "seed | 75\n",
      "funcs| `.automl.prep.i.truncsvd\n",
      "sz   | 0.1\n",
      "hld  | 0.1\n"
     ]
    }
   ],
   "source": [
    "show p:`seed`funcs`sz`hld!(75;`.automl.prep.i.truncsvd;.1;.1)"
   ]
  },
  {
   "cell_type": "code",
   "execution_count": 13,
   "metadata": {
    "scrolled": false
   },
   "outputs": [
    {
     "name": "stdout",
     "output_type": "stream",
     "text": [
      "\n",
      "The following is a breakdown of information for each of the relevant columns in the dataset\n",
      "\n",
      "                | count unique mean     std      min   max     type       \n",
      "------          | --------------------------------------------------------\n",
      "tenure          | 4500  73     32.326   24.55931 0i    72i     numeric    \n",
      "MonthlyCharges  | 4500  1251   64.88498 30.49795 18.55 118.75  numeric    \n",
      "TotalCharges    | 4500  3178   2284.252 2275.078 18.85 8672.45 numeric    \n",
      "customerID      | 4500  3310   ::       ::       ::    ::      categorical\n",
      "gender          | 4500  2      ::       ::       ::    ::      categorical\n",
      "Partner         | 4500  2      ::       ::       ::    ::      categorical\n",
      "Dependents      | 4500  2      ::       ::       ::    ::      categorical\n",
      "PhoneService    | 4500  2      ::       ::       ::    ::      categorical\n",
      "MultipleLines   | 4500  3      ::       ::       ::    ::      categorical\n",
      "InternetService | 4500  3      ::       ::       ::    ::      categorical\n",
      "OnlineSecurity  | 4500  3      ::       ::       ::    ::      categorical\n",
      "OnlineBackup    | 4500  3      ::       ::       ::    ::      categorical\n",
      "DeviceProtection| 4500  3      ::       ::       ::    ::      categorical\n",
      "TechSupport     | 4500  3      ::       ::       ::    ::      categorical\n",
      "StreamingTV     | 4500  3      ::       ::       ::    ::      categorical\n",
      "StreamingMovies | 4500  3      ::       ::       ::    ::      categorical\n",
      "Contract        | 4500  3      ::       ::       ::    ::      categorical\n",
      "PaperlessBilling| 4500  2      ::       ::       ::    ::      categorical\n",
      "PaymentMethod   | 4500  4      ::       ::       ::    ::      categorical\n",
      "SeniorCitizen   | 4500  2      ::       ::       ::    ::      boolean    \n",
      "\n",
      "Data preprocessing complete, starting feature creation\n",
      "\n",
      "Feature creation and significance testing complete\n",
      "Starting initial model selection - allow ample time for large datasets\n",
      "\n",
      "Total features being passed to the models = 269\n",
      "\n",
      "Scores for all models, using .ml.accuracy\n",
      "RandomForestClassifier    | 0.8364883\n",
      "GradientBoostingClassifier| 0.8098765\n",
      "AdaBoostClassifier        | 0.7975309\n",
      "LogisticRegression        | 0.7958848\n",
      "binarykeras               | 0.7857339\n",
      "KNeighborsClassifier      | 0.7802469\n",
      "MLPClassifier             | 0.7744856\n",
      "SVC                       | 0.7572016\n",
      "GaussianNB                | 0.7327846\n",
      "LinearSVC                 | 0.7105624\n",
      "\n",
      "Best scoring model = RandomForestClassifier\n",
      "Score for validation predictions using best model = 0.8740741\n",
      "\n",
      "\n",
      "Feature impact calculated for features associated with RandomForestClassifier model\n",
      "Plots saved in /outputs/2020.02.28/run_14.32.28.269/images/\n",
      "\n",
      "Continuing to grid-search and final model fitting on holdout set\n",
      "\n",
      "Best model fitting now complete - final score on test set = 0.8711111\n",
      "\n",
      "Confusion matrix for test set:\n",
      "\n",
      "      | pred_0 pred_1\n",
      "------| -------------\n",
      "true_0| 307    27    \n",
      "true_1| 31     85    \n",
      "\n",
      "Saving down procedure report to /outputs/2020.02.28/run_14.32.28.269/report/\n",
      "Saving down RandomForestClassifier model to /outputs/2020.02.28/run_14.32.28.269/models/\n",
      "Saving down model parameters to /outputs/2020.02.28/run_14.32.28.269/config/\n",
      "\n",
      ".aml.run took 00:04:35.352\n"
     ]
    }
   ],
   "source": [
    "start:.z.t\n",
    "r2:.automl.run[inputs`xtrain;inputs`ytrain;`normal;`class;p]\n",
    "-1\"\\n.automl.run took \",string .z.t-start;"
   ]
  },
  {
   "cell_type": "code",
   "execution_count": 14,
   "metadata": {},
   "outputs": [
    {
     "data": {
      "text/plain": [
       "<Figure size 1440x1440 with 0 Axes>"
      ]
     },
     "metadata": {},
     "output_type": "display_data"
    },
    {
     "data": {
      "image/png": "[encoded data removed]",
      "text/plain": [
       "<Figure size 460.8x345.6 with 1 Axes>"
      ]
     },
     "metadata": {},
     "output_type": "display_data"
    },
    {
     "data": {
      "image/png": "[encoded data removed]",
      "text/plain": [
       "<Figure size 360x360 with 1 Axes>"
      ]
     },
     "metadata": {},
     "output_type": "display_data"
    }
   ],
   "source": [
    "plt[`:show][];"
   ]
  },
  {
   "cell_type": "markdown",
   "metadata": {},
   "source": [
    "We can see by looking at the feature impact that many of the most impactful features are now derived from those generated when `.automl.prep.i.truncsvd` was applied during feature extraction, this gives some insight into the potential benefit of this form of feature extraction. \n",
    "\n",
    "While benefiting from increases in accuracy the addition of larger numbers of features (271 vs 8) can have the effect of slowing training time and scoring time which have have an impact in time critical use-cases.\n",
    "\n",
    "We can now predict on the hold-out dataset in order to compare accuracy results to the default case."
   ]
  },
  {
   "cell_type": "code",
   "execution_count": 15,
   "metadata": {},
   "outputs": [
    {
     "name": "stdout",
     "output_type": "stream",
     "text": [
      "Run date: 2020.02.28. Run time: 14:32:28.269.\n",
      "\n",
      "Predictions: \n",
      "0 1 0 0 0 0 0 0 1 0 1 0 0 0 0 0 0 0 0 0 0 0 0 1 0 0 0 1 1 0 0 0 1 0 0 0 0 0 0..\n",
      "\n",
      "Targets:\n",
      "0 1 0 0 1 0 0 0 0 0 1 0 0 0 0 0 0 0 0 0 0 0 0 0 0 0 0 1 1 0 0 0 1 0 0 0 0 1 0..\n"
     ]
    }
   ],
   "source": [
    "print_runid . r2;\n",
    "-1\"\\nPredictions: \";\n",
    "show pred:.automl.new[inputs`xtest]. r2\n",
    "-1\"\\nTargets:\";\n",
    "show inputs`ytest"
   ]
  },
  {
   "cell_type": "code",
   "execution_count": 16,
   "metadata": {},
   "outputs": [
    {
     "name": "stdout",
     "output_type": "stream",
     "text": [
      "Run date: 2020.02.28. Run time: 14:30:06.704.\n",
      "Accuracy on default model run using held-out data: 0.816\n",
      "\n",
      "Run date: 2020.02.28. Run time: 14:32:28.269.\n",
      "Accuracy on custom model run using held-out data : 0.894\n"
     ]
    }
   ],
   "source": [
    "print_runid . r1;\n",
    "-1\"Accuracy on default model run using held-out data: \",string[acc1],\"\\n\";\n",
    "print_runid . r2;\n",
    "-1\"Accuracy on custom model run using held-out data : \",string .ml.accuracy[inputs`ytest;pred];"
   ]
  },
  {
   "cell_type": "markdown",
   "metadata": {},
   "source": [
    "We can see that by adding feature extraction in the normal case we have improved our accuracy by ~ 8%. This is highlighted in the confusion matrix below."
   ]
  },
  {
   "cell_type": "code",
   "execution_count": 17,
   "metadata": {},
   "outputs": [
    {
     "data": {
      "image/png": "[encoded data removed]",
      "text/plain": [
       "<Figure size 360x360 with 1 Axes>"
      ]
     },
     "metadata": {},
     "output_type": "display_data"
    }
   ],
   "source": [
    "displayCM[value .ml.confmat[inputs`ytest;pred];`0`1;\"Test Set Confusion Matrix\";()];"
   ]
  },
  {
   "cell_type": "markdown",
   "metadata": {},
   "source": [
    "### Example 2"
   ]
  },
  {
   "cell_type": "markdown",
   "metadata": {},
   "source": [
    "In this example we highlight how to change the save options, contained under ``` `saveopt``` within the parameter dictionary.\n",
    "\n",
    "In the default case, not modified in the examples above, the system will save all outputs to disk (reports, images, config file and models). This can be altered by the user to reduce the number of outputs saved to disk, where:\n",
    "\n",
    "- `0` = Nothing is saved the models will run and display results to console but nothing persisted\n",
    "- `1` = Save the model and configuration file only, will not generate a report for the user or any images\n",
    "- `2` = Save all possible outputs to disk for the user including reports, images, config and models\n",
    "\n",
    "We demonstrate the case for `0` below for a subset of 1000 data points."
   ]
  },
  {
   "cell_type": "code",
   "execution_count": 18,
   "metadata": {},
   "outputs": [],
   "source": [
    "\\S 42\n",
    "feat:1000?feat\n",
    "targ:1000?targ"
   ]
  },
  {
   "cell_type": "code",
   "execution_count": 19,
   "metadata": {},
   "outputs": [
    {
     "name": "stdout",
     "output_type": "stream",
     "text": [
      "\n",
      "The following is a breakdown of information for each of the relevant columns in the dataset\n",
      "\n",
      "                | count unique mean     std      min   max     type       \n",
      "------          | --------------------------------------------------------\n",
      "tenure          | 1000  73     33.551   25.0546  0i    72i     numeric    \n",
      "MonthlyCharges  | 1000  582    64.02735 30.38511 18.8  118.75  numeric    \n",
      "TotalCharges    | 1000  834    2358.61  2345.948 18.85 8672.45 numeric    \n",
      "customerID      | 1000  842    ::       ::       ::    ::      categorical\n",
      "gender          | 1000  2      ::       ::       ::    ::      categorical\n",
      "Partner         | 1000  2      ::       ::       ::    ::      categorical\n",
      "Dependents      | 1000  2      ::       ::       ::    ::      categorical\n",
      "PhoneService    | 1000  2      ::       ::       ::    ::      categorical\n",
      "MultipleLines   | 1000  3      ::       ::       ::    ::      categorical\n",
      "InternetService | 1000  3      ::       ::       ::    ::      categorical\n",
      "OnlineSecurity  | 1000  3      ::       ::       ::    ::      categorical\n",
      "OnlineBackup    | 1000  3      ::       ::       ::    ::      categorical\n",
      "DeviceProtection| 1000  3      ::       ::       ::    ::      categorical\n",
      "TechSupport     | 1000  3      ::       ::       ::    ::      categorical\n",
      "StreamingTV     | 1000  3      ::       ::       ::    ::      categorical\n",
      "StreamingMovies | 1000  3      ::       ::       ::    ::      categorical\n",
      "Contract        | 1000  3      ::       ::       ::    ::      categorical\n",
      "PaperlessBilling| 1000  2      ::       ::       ::    ::      categorical\n",
      "PaymentMethod   | 1000  4      ::       ::       ::    ::      categorical\n",
      "SeniorCitizen   | 1000  2      ::       ::       ::    ::      boolean    \n",
      "\n",
      "Data preprocessing complete, starting feature creation\n",
      "\n",
      "Feature creation and significance testing complete\n",
      "Starting initial model selection - allow ample time for large datasets\n",
      "\n",
      "Total features being passed to the models = 12\n",
      "\n",
      "Scores for all models, using .ml.accuracy\n",
      "LinearSVC                 | 0.7484375\n",
      "AdaBoostClassifier        | 0.746875\n",
      "LogisticRegression        | 0.746875\n",
      "SVC                       | 0.740625\n",
      "MLPClassifier             | 0.7375\n",
      "GradientBoostingClassifier| 0.7359375\n",
      "GaussianNB                | 0.7203125\n",
      "RandomForestClassifier    | 0.7078125\n",
      "KNeighborsClassifier      | 0.6828125\n",
      "binarykeras               | 0.653125\n",
      "\n",
      "Best scoring model = LinearSVC\n",
      "Score for validation predictions using best model = 0.825\n",
      "\n",
      "Continuing to grid-search and final model fitting on holdout set\n",
      "\n",
      "Best model fitting now complete - final score on test set = 0.705\n",
      "\n",
      "Confusion matrix for test set:\n",
      "\n",
      "      | pred_0 pred_1\n",
      "------| -------------\n",
      "true_0| 141    0     \n",
      "true_1| 59     0     \n"
     ]
    }
   ],
   "source": [
    ".automl.run[feat;targ;`normal;`class;enlist[`saveopt]!enlist 0];"
   ]
  },
  {
   "cell_type": "markdown",
   "metadata": {},
   "source": [
    "As we can see compared to the previous default behaviour nothing has been saved down during a single run of the pipeline."
   ]
  },
  {
   "cell_type": "markdown",
   "metadata": {},
   "source": [
    "### Example 3"
   ]
  },
  {
   "cell_type": "markdown",
   "metadata": {},
   "source": [
    "We have shown in the previous examples that the pipeline can be altered by passing in a dictionary of parameters as the last argument in `.automl.run`. As mentioned previously, we can also pass the path to a flat file.\n",
    "\n",
    "Default flat files are saved to `automl/code/models/` where users can change parameters within each file. These are generated by a user using the function `.automl.savedefault` as follows:"
   ]
  },
  {
   "cell_type": "code",
   "execution_count": 20,
   "metadata": {},
   "outputs": [],
   "source": [
    ".automl.savedefault[\"new_normal_defaults.txt\";`normal]"
   ]
  },
  {
   "cell_type": "markdown",
   "metadata": {},
   "source": [
    "We can then run the pipeline using this new file as our final argument:"
   ]
  },
  {
   "cell_type": "code",
   "execution_count": 21,
   "metadata": {},
   "outputs": [
    {
     "name": "stdout",
     "output_type": "stream",
     "text": [
      "\n",
      "The following is a breakdown of information for each of the relevant columns in the dataset\n",
      "\n",
      "                | count unique mean     std      min   max     type       \n",
      "------          | --------------------------------------------------------\n",
      "tenure          | 1000  73     33.551   25.0546  0i    72i     numeric    \n",
      "MonthlyCharges  | 1000  582    64.02735 30.38511 18.8  118.75  numeric    \n",
      "TotalCharges    | 1000  834    2358.61  2345.948 18.85 8672.45 numeric    \n",
      "customerID      | 1000  842    ::       ::       ::    ::      categorical\n",
      "gender          | 1000  2      ::       ::       ::    ::      categorical\n",
      "Partner         | 1000  2      ::       ::       ::    ::      categorical\n",
      "Dependents      | 1000  2      ::       ::       ::    ::      categorical\n",
      "PhoneService    | 1000  2      ::       ::       ::    ::      categorical\n",
      "MultipleLines   | 1000  3      ::       ::       ::    ::      categorical\n",
      "InternetService | 1000  3      ::       ::       ::    ::      categorical\n",
      "OnlineSecurity  | 1000  3      ::       ::       ::    ::      categorical\n",
      "OnlineBackup    | 1000  3      ::       ::       ::    ::      categorical\n",
      "DeviceProtection| 1000  3      ::       ::       ::    ::      categorical\n",
      "TechSupport     | 1000  3      ::       ::       ::    ::      categorical\n",
      "StreamingTV     | 1000  3      ::       ::       ::    ::      categorical\n",
      "StreamingMovies | 1000  3      ::       ::       ::    ::      categorical\n",
      "Contract        | 1000  3      ::       ::       ::    ::      categorical\n",
      "PaperlessBilling| 1000  2      ::       ::       ::    ::      categorical\n",
      "PaymentMethod   | 1000  4      ::       ::       ::    ::      categorical\n",
      "SeniorCitizen   | 1000  2      ::       ::       ::    ::      boolean    \n",
      "\n",
      "Data preprocessing complete, starting feature creation\n",
      "\n",
      "Feature creation and significance testing complete\n",
      "Starting initial model selection - allow ample time for large datasets\n",
      "\n",
      "Total features being passed to the models = 12\n",
      "\n",
      "Scores for all models, using .ml.accuracy\n",
      "MLPClassifier             | 0.7671875\n",
      "AdaBoostClassifier        | 0.7640625\n",
      "LogisticRegression        | 0.7640625\n",
      "SVC                       | 0.7640625\n",
      "LinearSVC                 | 0.7640625\n",
      "binarykeras               | 0.7640625\n",
      "GradientBoostingClassifier| 0.7625\n",
      "RandomForestClassifier    | 0.7296875\n",
      "GaussianNB                | 0.7265625\n",
      "KNeighborsClassifier      | 0.721875\n",
      "\n",
      "Best scoring model = MLPClassifier\n",
      "Score for validation predictions using best model = 0.75\n",
      "\n",
      "\n",
      "Feature impact calculated for features associated with MLPClassifier model\n",
      "Plots saved in /outputs/2020.02.28/run_14.47.34.796/images/\n",
      "\n",
      "Continuing to grid-search and final model fitting on holdout set\n",
      "\n",
      "Best model fitting now complete - final score on test set = 0.685\n",
      "\n",
      "Confusion matrix for test set:\n",
      "\n",
      "      | pred_0 pred_1\n",
      "------| -------------\n",
      "true_0| 135    9     \n",
      "true_1| 54     2     \n",
      "\n",
      "Saving down procedure report to /outputs/2020.02.28/run_14.47.34.796/report/\n",
      "Saving down MLPClassifier model to /outputs/2020.02.28/run_14.47.34.796/models/\n",
      "Saving down model parameters to /outputs/2020.02.28/run_14.47.34.796/config/\n"
     ]
    }
   ],
   "source": [
    ".automl.run[feat;targ;`normal;`class;\"new_normal_defaults.txt\"];"
   ]
  },
  {
   "cell_type": "markdown",
   "metadata": {},
   "source": [
    "---"
   ]
  }
 ],
 "metadata": {
  "kernelspec": {
   "display_name": "Q (kdb+)",
   "language": "q",
   "name": "qpk"
  },
  "language_info": {
   "file_extension": ".q",
   "mimetype": "text/x-q",
   "name": "q",
   "version": "3.7.0"
  }
 },
 "nbformat": 4,
 "nbformat_minor": 2
}
