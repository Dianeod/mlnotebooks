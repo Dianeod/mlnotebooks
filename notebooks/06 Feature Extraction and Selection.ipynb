{
 "cells": [
  {
   "cell_type": "markdown",
   "metadata": {},
   "source": [
    "# Machine Learning Demonstrations"
   ]
  },
  {
   "cell_type": "markdown",
   "metadata": {},
   "source": [
    "In this notebook, we showcase 3 examples of how effectively use the FRESH algorithm, contained within the kdb+/q machine learning toolkit (ML-toolkit).\n",
    "\n",
    "<div class=\"alert alert-danger\">\n",
    "To run the below notebook, ensure that dependencies specified in <b>requirements.txt</b> have been correctly installed.\n",
    "</div>"
   ]
  },
  {
   "cell_type": "markdown",
   "metadata": {},
   "source": [
    "## Feature Extraction and Selection"
   ]
  },
  {
   "cell_type": "markdown",
   "metadata": {},
   "source": [
    "Feature extraction and selection are vital components of many machine learning pipelines. Below we implement the [FRESH](https://arxiv.org/pdf/1610.07717v3.pdf) (FeatuRe Extraction and Scalable Hypothesis testing) algorithm.\n",
    "\n",
    "Feature extraction is the process of building derived, aggregate features from a time series dataset. The features created are designed to characterize the underlying time series in a way that is easier to interpret and often provides a more suitable input to machine learning algorithms."
   ]
  },
  {
   "cell_type": "markdown",
   "metadata": {},
   "source": [
    "## Machine Learning Toolkit"
   ]
  },
  {
   "cell_type": "markdown",
   "metadata": {},
   "source": [
    "The ML-Toolkit contains general use utilities, an implementation of the FRESH (Feature Extraction based on Scalable Hypothesis tests) algorithm and cross validation functions. The primary purpose of these libraries is to provide kdb+/q users with access to commonly-used ML functions for preprocessing data, extracting features and scoring results.\n",
    "\n",
    "The toolkit is used throughout this notebook and can be loaded using the below syntax."
   ]
  },
  {
   "cell_type": "code",
   "execution_count": 1,
   "metadata": {},
   "outputs": [],
   "source": [
    "\\l ml/ml.q\n",
    ".ml.loadfile`:init.q"
   ]
  },
  {
   "cell_type": "markdown",
   "metadata": {},
   "source": [
    "## Sections"
   ]
  },
  {
   "cell_type": "markdown",
   "metadata": {},
   "source": [
    "This notebook is split into 3 distinct sections which cover different use cases for the FRESH algorithm.\n",
    "1. [Bike-Rental Volume Prediction](#Bike-Rental)\n",
    "2. [Feature Extraction and Time Series Forecasting](#Forecasting)\n",
    "3. [Abnormal Wafer Detection In Semiconductor Production](#Wafer)"
   ]
  },
  {
   "cell_type": "code",
   "execution_count": 2,
   "metadata": {},
   "outputs": [],
   "source": [
    "\\c 20 100\n",
    "\\l ../utils/graphics.q\n",
    "\\l ../utils/util.q\n",
    "ptab:.ml.fresh.params"
   ]
  },
  {
   "cell_type": "markdown",
   "metadata": {},
   "source": [
    "---"
   ]
  },
  {
   "cell_type": "markdown",
   "metadata": {},
   "source": [
    "<a id='Bike-Rental'></a>\n",
    "# Bike Rental Volume Prediction"
   ]
  },
  {
   "cell_type": "markdown",
   "metadata": {},
   "source": [
    "The purpose of this example is to provide an illustration of how the FRESH algorithm can be implemented to aid in forecasting the value of a target variable, without the implementation of data rolling.\n",
    "\n",
    "The goal is to use hourly bike rental data from the current day to predict if the last hour of the next day will be busier or quieter than the last hour of today.\n",
    "\n",
    "This example has been chosen to highlight how FRESH could be useful for staff planning, where an employer could use data to anticipate if extra staff are required for the next business day, saving the business money."
   ]
  },
  {
   "cell_type": "markdown",
   "metadata": {},
   "source": [
    "## Bike Sharing in Washington D.C. Dataset"
   ]
  },
  {
   "cell_type": "markdown",
   "metadata": {},
   "source": [
    "The [Bike Sharing in Washington D.C. Dataset](https://www.kaggle.com/marklvl/bike-sharing-dataset) contains hourly and daily counts of rental bikes from 2011-2012 in Capital Bikeshare System in Washington, DC with the corresponding weather and seasonal information."
   ]
  },
  {
   "cell_type": "markdown",
   "metadata": {},
   "source": [
    "### Load data\n",
    "\n",
    "Below we load in data from the Bike Sharing dataset and drop columns which contain zero variance as these are not useful when training a machine learning algorithm."
   ]
  },
  {
   "cell_type": "code",
   "execution_count": 3,
   "metadata": {},
   "outputs": [
    {
     "name": "stdout",
     "output_type": "stream",
     "text": [
      "instant dteday     season yr mnth hr holiday weekday workingday weathersit temp atemp  hum  winds..\n",
      "-------------------------------------------------------------------------------------------------..\n",
      "1       2011.01.01 1      0  1    0  0       6       0          1          0.24 0.2879 0.81 0    ..\n",
      "2       2011.01.01 1      0  1    1  0       6       0          1          0.22 0.2727 0.8  0    ..\n",
      "3       2011.01.01 1      0  1    2  0       6       0          1          0.22 0.2727 0.8  0    ..\n",
      "4       2011.01.01 1      0  1    3  0       6       0          1          0.24 0.2879 0.75 0    ..\n",
      "5       2011.01.01 1      0  1    4  0       6       0          1          0.24 0.2879 0.75 0    ..\n",
      "\n",
      "Shape of data is: 17379 x 17\n"
     ]
    }
   ],
   "source": [
    "show 5#tabinit:.ml.dropConstant(\"IDIIIIIIIIFFFFIII\";(),\",\")0:`:../data/bike_rental.csv\n",
    "-1\"\\nShape of data is: \",a:\" x \"sv string .ml.shape tabinit;"
   ]
  },
  {
   "cell_type": "markdown",
   "metadata": {},
   "source": [
    "### Target values\n",
    "\n",
    "We want to predict if the number of bike rentals will be higher or lower in the last hour of business tomorrow compared to today. We therefore have to create a target vector which will be predicted by a machine learning model."
   ]
  },
  {
   "cell_type": "code",
   "execution_count": 4,
   "metadata": {},
   "outputs": [
    {
     "data": {
      "text/plain": [
       "target| num pcnt    \n",
       "------| ------------\n",
       "0     | 319 43.63885\n",
       "1     | 412 56.36115\n"
      ]
     },
     "execution_count": 4,
     "metadata": {},
     "output_type": "execute_result"
    }
   ],
   "source": [
    "lasthour:value exec last cnt by dteday from tabinit\n",
    "targets:lasthour>prev lasthour\n",
    "update pcnt:100*num%sum num from select num:count i by target from([]target:targets)"
   ]
  },
  {
   "cell_type": "markdown",
   "metadata": {},
   "source": [
    "Using a naive solution which states that the number of rentals will always increase, we would be correct ~56% of the time. Therefore, if our procedure and algorithm provide us with any new insights into the data our predictions will be more than 56% correct on a consistent basis."
   ]
  },
  {
   "cell_type": "markdown",
   "metadata": {},
   "source": [
    "### Feature extraction\n",
    "\n",
    "To extract features provided in the FRESH library from the dataset `.ml.fresh.params` must be called. This is a table containing available functions and corresponding parameters to be applied to the data. Parameters and functions can be altered by updating the valid column of this table, an example is shown below."
   ]
  },
  {
   "cell_type": "code",
   "execution_count": 5,
   "metadata": {},
   "outputs": [
    {
     "name": "stdout",
     "output_type": "stream",
     "text": [
      "f           | pnum pnames pvals valid\n",
      "------------| -----------------------\n",
      "absEnergy   | 0                 1    \n",
      "absSumChange| 0                 1    \n",
      "aggAutoCorr | 0                 1    \n",
      "augFuller   | 0                 1    \n",
      "count       | 0                 1    \n"
     ]
    }
   ],
   "source": [
    "/ set unwanted functions to invalid\n",
    "show 5#dict:update valid:0b from ptab where f in`c3`numpeaks`quantile`fftcoeff`spktwelch`ratiobeyondsigma`augfuller"
   ]
  },
  {
   "cell_type": "markdown",
   "metadata": {},
   "source": [
    "We can now perform feature extracting by using `.ml.createFeatures`, which takes the data, aggregation column, columns to apply the extraction to and the function dictionary as arguments."
   ]
  },
  {
   "cell_type": "code",
   "execution_count": 6,
   "metadata": {
    "scrolled": false
   },
   "outputs": [
    {
     "name": "stdout",
     "output_type": "stream",
     "text": [
      "dteday    | season_absEnergy season_absSumChange season_count season_countAboveMean season_countB..\n",
      "----------| -------------------------------------------------------------------------------------..\n",
      "2011.01.01| 24               0                   24           0                     0            ..\n",
      "2011.01.02| 23               0                   23           0                     0            ..\n",
      "2011.01.03| 22               0                   22           0                     0            ..\n",
      "2011.01.04| 23               0                   23           0                     0            ..\n",
      "2011.01.05| 23               0                   23           0                     0            ..\n",
      "\n",
      "Shape of data is: 731 x 4065\n"
     ]
    }
   ],
   "source": [
    "show 5#tabraw:.ml.fresh.createFeatures[tabinit;`dteday;2_cols tabinit;dict]\n",
    "-1\"\\nShape of data is: \",b:\" x \"sv string .ml.shape tabraw;"
   ]
  },
  {
   "cell_type": "markdown",
   "metadata": {},
   "source": [
    "### Feature selection\n",
    "\n",
    "Once feature extraction has been completed the importance of each feature can be determined using the statistical tests contained in the `.ml.fresh.significantfeatures` function. Significance testing allows us to reduce the number of features that are passed to the machine learning algorithm. By setting the third parameter of the function to `.28`, the function will return features with a p-value within the top 28th percentile."
   ]
  },
  {
   "cell_type": "code",
   "execution_count": 7,
   "metadata": {},
   "outputs": [
    {
     "name": "stdout",
     "output_type": "stream",
     "text": [
      "dteday    | weekday_absEnergy weekday_max weekday_mean weekday_med weekday_min weekday_sumRecurri..\n",
      "----------| -------------------------------------------------------------------------------------..\n",
      "2011.01.01| 864               6           6            6           6           144               ..\n",
      "2011.01.02| 0                 0           0            0           0           0                 ..\n",
      "2011.01.03| 22                1           1            1           1           22                ..\n",
      "2011.01.04| 92                2           2            2           2           46                ..\n",
      "2011.01.05| 207               3           3            3           3           69                ..\n",
      "\n",
      "Shape of data\n",
      "-------------------------------\n",
      "Initial dataset:    17379 x 17\n",
      "Unfiltered dataset: 731 x 4065\n",
      "Filtered dataset:   731 x 817\n"
     ]
    }
   ],
   "source": [
    "sigcols:.ml.fresh.significantFeatures[t:value tabraw;targets;.ml.fresh.percentile .28]\n",
    "show 5#tabreduced:key[tabraw]!sigcols#t\n",
    "-1\"\\nShape of data\";\n",
    "-1\"-------------------------------\";\n",
    "-1\"Initial dataset:    \",a;\n",
    "-1\"Unfiltered dataset: \",b;\n",
    "-1\"Filtered dataset:   \",\" x \"sv string .ml.shape tabreduced;"
   ]
  },
  {
   "cell_type": "markdown",
   "metadata": {},
   "source": [
    "### Prepare data\n",
    "Before we can train a model, data must be prepared by first converting features to a matrix, filling null values and replacing infinities.\n",
    "\n",
    "Data will then be split into training and testing sets. Below we select 20% to be present in the testing set."
   ]
  },
  {
   "cell_type": "code",
   "execution_count": 8,
   "metadata": {},
   "outputs": [],
   "source": [
    "/ 0 fill nulls and replace infinities\n",
    "fitvalsfilter:.util.mattab value tabreduced\n",
    "fitvalsfilter:0^.ml.infReplace fitvalsfilter\n",
    "\n",
    "/ split into training and testing sets\n",
    "dict:.ml.trainTestSplit[668#fitvalsfilter;668#targets;.2]"
   ]
  },
  {
   "cell_type": "markdown",
   "metadata": {},
   "source": [
    "### Fit and evaluate model\n",
    "\n",
    "Here we build, fit and evaluate a classification model. A Random Forest is initialized with 200 estimators which will allows for an estimate of the data quality following the completion of feature extraction.\n",
    "\n",
    "It should be noted that the addition of ``` `verbose pykw 1``` in the model definition will allow users to display the time required for training and associated training loss of the classifier."
   ]
  },
  {
   "cell_type": "code",
   "execution_count": 9,
   "metadata": {
    "scrolled": true
   },
   "outputs": [],
   "source": [
    "/ initialize model\n",
    "clf:.p.import[`sklearn.ensemble;`:RandomForestClassifier;`n_estimators pykw 200;`random_state pykw 1]\n",
    "\n",
    "/ fit training data\n",
    "clf[`:fit][dict`xtrain;dict`ytrain]`;\n",
    "\n",
    "/ make predictions on testing data\n",
    "pred:clf[`:predict][dict`xtest]`"
   ]
  },
  {
   "cell_type": "markdown",
   "metadata": {},
   "source": [
    "### Results\n",
    "\n",
    "We can now compare the true and predicted target values using a range of metrics, with results displayed in a confusion matrix."
   ]
  },
  {
   "cell_type": "code",
   "execution_count": 10,
   "metadata": {},
   "outputs": [
    {
     "name": "stdout",
     "output_type": "stream",
     "text": [
      "Future Deprecation Warning: function will no longer be callable after version '3.0'. Please use '.ml.classReport' instead.\n",
      "The number of misclassifications in the filtered dataset is: 38\n",
      "The accuracy in the filtered dataset is: 0.7164179\n"
     ]
    },
    {
     "data": {
      "text/plain": [
       "class    | precision recall    f1_score  support\n",
       "---------| -------------------------------------\n",
       "0        | 0.6851852 0.637931  0.6607143 58     \n",
       "1        | 0.7375    0.7763158 0.7564103 76     \n",
       "avg/total| 0.7113426 0.7071234 0.7085623 134    \n"
      ]
     },
     "execution_count": 10,
     "metadata": {},
     "output_type": "execute_result"
    }
   ],
   "source": [
    ".ml.classreport[pred;dict`ytest]\n",
    "-1\"The number of misclassifications in the filtered dataset is: \",string .ml.sse[pred;dict`ytest];\n",
    "-1\"The accuracy in the filtered dataset is: \",string .ml.accuracy[pred;dict`ytest];"
   ]
  },
  {
   "cell_type": "code",
   "execution_count": 11,
   "metadata": {
    "scrolled": false
   },
   "outputs": [
    {
     "data": {
      "text/plain": [
       "tn| 37\n",
       "fp| 21\n",
       "fn| 17\n",
       "tp| 59\n"
      ]
     },
     "execution_count": 11,
     "metadata": {},
     "output_type": "execute_result"
    },
    {
     "data": {
      "image/png": "[encoded data removed]",
      "text/plain": [
       "<Figure size 360x360 with 1 Axes>"
      ]
     },
     "metadata": {},
     "output_type": "display_data"
    }
   ],
   "source": [
    "cnfM:.ml.confMatrix[pred;dict`ytest]\n",
    ".ml.confDict[pred;dict`ytest;1b]\n",
    ".util.displayCM[value cnfM;`Low`High;\"Test Set Confusion Matrix\";()]"
   ]
  },
  {
   "cell_type": "markdown",
   "metadata": {},
   "source": [
    "### Conclusions\n",
    "\n",
    "It can be seen from the above results that the use of a Random Forest Classifier allowed us to predict the last hour of business today vs the previous day to a high accuracy compared to the naive case detailed above.\n",
    "\n",
    "It should be noted that the quality of results is dependent on the location at which the data is split into training and testing sets. This is an inherent problem with making predictions on systems that are influenced by human behaviour as it is difficult to predict outlying cases which have a non-repeating signatures."
   ]
  },
  {
   "cell_type": "markdown",
   "metadata": {},
   "source": [
    "---"
   ]
  },
  {
   "cell_type": "markdown",
   "metadata": {},
   "source": [
    "<a id='Forecasting'></a>\n",
    "# Feature Extraction and Time Series Forecasting"
   ]
  },
  {
   "cell_type": "markdown",
   "metadata": {},
   "source": [
    "The purpose of this example is to demonstrate the use of feature extraction and selection as a tool for forecasting the future behaviour of a system. In this case, we use information about the historical behaviour of a stock, with the goal of predicting the value of the stock's closing price the next day.\n",
    "\n",
    "As is demonstrated in the results section of this notebook, this would **not** be a profitable method for stock prediction. It is shown here to demonstrate the versatility of the algorithm and its use outside of classification."
   ]
  },
  {
   "cell_type": "markdown",
   "metadata": {},
   "source": [
    "## Amazon Stock Dataset"
   ]
  },
  {
   "cell_type": "markdown",
   "metadata": {},
   "source": [
    "The Amazon Stock Dataset contains data from 1997-2017. Data is provided for the open, high, low, close, volume and open int of a stock."
   ]
  },
  {
   "cell_type": "markdown",
   "metadata": {},
   "source": [
    "### Load data\n",
    "\n",
    "Below we load in the Amazon Stock Dataset and drop columns with zero variance, as with the previous example."
   ]
  },
  {
   "cell_type": "code",
   "execution_count": 12,
   "metadata": {
    "scrolled": false
   },
   "outputs": [
    {
     "name": "stdout",
     "output_type": "stream",
     "text": [
      "date       open high low  close volume  \n",
      "----------------------------------------\n",
      "1997.05.16 1.97 1.98 1.71 1.73  14700000\n",
      "1997.05.19 1.76 1.77 1.62 1.71  6106800 \n",
      "1997.05.20 1.73 1.75 1.64 1.64  5467200 \n",
      "1997.05.21 1.64 1.65 1.38 1.43  18853200\n",
      "1997.05.22 1.44 1.45 1.31 1.4   11776800\n",
      "\n",
      "Shape of data: 5170 x 6\n"
     ]
    }
   ],
   "source": [
    "show 5#amzndaydata:.ml.dropConstant lower[cols d]xcol d:(\"DFFFFJJ\";(),\",\")0:`:../data/amzn_day.us.txt\n",
    "-1\"\\nShape of data: \",a:\" x \"sv string .ml.shape amzndaydata;"
   ]
  },
  {
   "cell_type": "markdown",
   "metadata": {},
   "source": [
    "### Target values\n",
    "\n",
    "We want to use rolled table forecasting frames to predict the close price for the next day given extracted features from the previous 10 days. The first 10 days were therefore omitted as these would end up being incomplete, due to the rolling frames, and as such may skew our results."
   ]
  },
  {
   "cell_type": "code",
   "execution_count": 13,
   "metadata": {},
   "outputs": [
    {
     "name": "stdout",
     "output_type": "stream",
     "text": [
      "1.51 1.48 1.42 1.54 1.66 1.69 1.58 1.54 1.6 1.58 1.57 1.51 1.51 1.51 1.53 1.5 1.51 1.51 1.51 1.49..\n"
     ]
    }
   ],
   "source": [
    "tabletargets:10_amzndaydata\n",
    "show targets:tabletargets`close"
   ]
  },
  {
   "cell_type": "markdown",
   "metadata": {},
   "source": [
    "### Preprocessing\n",
    "\n",
    "Below we produce polynomial features from our data in order to allow for interactions between terms in the system. This allows us to study both combined and individual features.\n",
    "\n",
    "The date column is removed from the data as it is not required given that the data will be subject to a sliding window which negates its significance as a column."
   ]
  },
  {
   "cell_type": "code",
   "execution_count": 14,
   "metadata": {},
   "outputs": [
    {
     "name": "stdout",
     "output_type": "stream",
     "text": [
      "open high low  close volume   open_high open_low open_close open_volume  high_low high_close high..\n",
      "-------------------------------------------------------------------------------------------------..\n",
      "1.97 1.98 1.71 1.73  14700000 3.9006    3.3687   3.4081     2.8959e+07   3.3858   3.4254     2.91..\n",
      "1.76 1.77 1.62 1.71  6106800  3.1152    2.8512   3.0096     1.074797e+07 2.8674   3.0267     1.08..\n",
      "1.73 1.75 1.64 1.64  5467200  3.0275    2.8372   2.8372     9458256      2.87     2.87       9567..\n",
      "1.64 1.65 1.38 1.43  18853200 2.706     2.2632   2.3452     3.091925e+07 2.277    2.3595     3.11..\n",
      "1.44 1.45 1.31 1.4   11776800 2.088     1.8864   2.016      1.695859e+07 1.8995   2.03       1.70..\n"
     ]
    }
   ],
   "source": [
    "/ add 2nd order polynomial features to the table\n",
    "show 5#table:amzndaydata^.ml.polyTab[amzndaydata:delete date from amzndaydata;2]"
   ]
  },
  {
   "cell_type": "markdown",
   "metadata": {},
   "source": [
    "### Feature Extraction\n",
    "\n",
    "Below the parameter table has been updated such that we only apply functions without parameters to the dataset. This is achieved by setting rows of the parameter table to invalid for `pnum>0`."
   ]
  },
  {
   "cell_type": "code",
   "execution_count": 15,
   "metadata": {},
   "outputs": [
    {
     "name": "stdout",
     "output_type": "stream",
     "text": [
      "f           | pnum pnames pvals valid\n",
      "------------| -----------------------\n",
      "absEnergy   | 0                 1    \n",
      "absSumChange| 0                 1    \n",
      "aggAutoCorr | 0                 1    \n",
      "augFuller   | 0                 1    \n",
      "count       | 0                 1    \n"
     ]
    }
   ],
   "source": [
    "/ make all hyperparameter features invalid\n",
    "dict:update valid:0b from ptab where pnum>0\n",
    "\n",
    "/ do not produce aggregated fast fourier transform - this can be computationally expensive\n",
    "show 5#dict:update valid:0b from dict where f=`fftaggreg"
   ]
  },
  {
   "cell_type": "markdown",
   "metadata": {},
   "source": [
    "### Rolling table forecasting frame\n",
    "\n",
    "The following function creates a rolling window, with window lengths `n` on the data and implements feature extraction on each window. Caution should be exercised when applying this to large datasets as the number of calculations required will be:\n",
    "\n",
    "```q\n",
    "(1+count table)-n\n",
    "```"
   ]
  },
  {
   "cell_type": "code",
   "execution_count": 16,
   "metadata": {},
   "outputs": [],
   "source": [
    "rollcreatefeatures:{[x;f;n]raze createft[;f]each updplacer[x;]each dropswin[n;til count x]}\n",
    "dropswin :{-1_(x-1)_{1_x,y}\\[x#0;y]}\n",
    "createft :{.ml.fresh.createFeatures[x;`placer;-1_cols x;y]}\n",
    "updplacer:{update placer:last y from x y}"
   ]
  },
  {
   "cell_type": "markdown",
   "metadata": {},
   "source": [
    "The next cell produces features extracted by applying a 10-day sliding windows to the data. These features are used in the prediction of the following days close price. \n",
    "\n",
    "The keyed column in the output table gives the column number of the last value in each window. \n",
    "\n",
    "All incomplete windows have been removed from the application of the sliding window and the window for the last day is not created as this could not be used in the prediction of a target."
   ]
  },
  {
   "cell_type": "code",
   "execution_count": 17,
   "metadata": {},
   "outputs": [
    {
     "name": "stdout",
     "output_type": "stream",
     "text": [
      "placer| open_absEnergy open_absSumChange open_count open_countAboveMean open_countBelowMean open_..\n",
      "------| -----------------------------------------------------------------------------------------..\n",
      "9     | 26.2488        0.89              10         5                   5                   0    ..\n",
      "10    | 24.648         0.69              10         4                   6                   0    ..\n",
      "11    | 23.8913        0.68              10         3                   7                   0    ..\n",
      "12    | 23.0888        0.64              10         4                   6                   0    ..\n",
      "13    | 22.4156        0.5               10         6                   4                   0.3  ..\n",
      "\n",
      "Shape of the forecast data is: 5160 x 690\n"
     ]
    }
   ],
   "source": [
    "show 5#tabraw:rollcreatefeatures[table;dict;10]\n",
    "-1\"\\nShape of the forecast data is: \",b:\" x \"sv string .ml.shape tabraw;"
   ]
  },
  {
   "cell_type": "markdown",
   "metadata": {},
   "source": [
    "### Feature significance  \n",
    "\n",
    "Below is an example of how the k-best features can be determined through significant tests. In the given example k is set to 200."
   ]
  },
  {
   "cell_type": "code",
   "execution_count": 18,
   "metadata": {},
   "outputs": [
    {
     "name": "stdout",
     "output_type": "stream",
     "text": [
      "placer| open_fftAggreg_skew open_fftAggreg_kurtosis high_fftAggreg_skew high_fftAggreg_kurtosis l..\n",
      "------| -----------------------------------------------------------------------------------------..\n",
      "9     | 3.34865             15.10603                3.338026            14.96626                4..\n",
      "10    | 4.738168            28.64043                4.732788            28.36683                 ..\n",
      "11    |                                                                                         4..\n",
      "12    | 4.460971            23.85714                4.471995            23.85924                 ..\n",
      "13    |                                                                                          ..\n",
      "\n",
      "Shape of data\n",
      "-------------------------------\n",
      "Initial dataset:    5170 x 6\n",
      "Unfiltered dataset: 5160 x 690\n",
      "Filtered dataset:   5160 x 200\n"
     ]
    }
   ],
   "source": [
    "sigcols:.ml.fresh.significantFeatures[t:value tabraw;targets;.ml.fresh.kSigFeat 200]\n",
    "show 5#tabreduced:key[tabraw]!sigcols#t\n",
    "-1\"\\nShape of data\";\n",
    "-1\"-------------------------------\";\n",
    "-1\"Initial dataset:    \",a;\n",
    "-1\"Unfiltered dataset: \",b;\n",
    "-1\"Filtered dataset:   \",\" x \"sv string .ml.shape tabreduced;"
   ]
  },
  {
   "cell_type": "markdown",
   "metadata": {},
   "source": [
    "### Prepare data\n",
    "Before we can train a model, data must be prepared by first converting features to a matrix and filling null values.\n",
    "\n",
    "In the below cell, we reintroduce the original data for each day into the dataset. This allows the final dataset to contain both the original and derived datapoints."
   ]
  },
  {
   "cell_type": "code",
   "execution_count": 19,
   "metadata": {},
   "outputs": [],
   "source": [
    "rawdata:-1 _9 _amzndaydata\n",
    "fitvalsfilter:0^.util.mattab rawdata,'value tabreduced\n",
    "fitvalsraw   :0^.util.mattab rawdata,'value tabraw\n",
    "newpredictor :0^.util.mattab delete date from rawdata"
   ]
  },
  {
   "cell_type": "markdown",
   "metadata": {},
   "source": [
    "Data is split into training and testing sets where we select 20% to be present in the testing set. In the below example:\n",
    "\n",
    "* `dict1` = dictionary with the initial time-series data\n",
    "* `dict2` = dictionary with the unfiltered data\n",
    "* `dict3` = dictionary with the filtered data"
   ]
  },
  {
   "cell_type": "code",
   "execution_count": 20,
   "metadata": {},
   "outputs": [],
   "source": [
    "dict1:.ml.trainTestSplit[newpredictor;targets;.2];\n",
    "dict2:.ml.trainTestSplit[fitvalsraw;targets;.2];\n",
    "dict3:.ml.trainTestSplit[fitvalsfilter;targets;.2];"
   ]
  },
  {
   "cell_type": "markdown",
   "metadata": {},
   "source": [
    "### Fit and evaluate model\n",
    "\n",
    "Here we train and make predictions on a Gradient Boosting Regressor, where the aim is to predict the close price. Note that the application of regression on financial data can be quite temperamental, with a high dependency the data split which influences the final result."
   ]
  },
  {
   "cell_type": "code",
   "execution_count": 21,
   "metadata": {},
   "outputs": [],
   "source": [
    "/ initialize model\n",
    "gbr:.p.import[`sklearn.ensemble]`:GradientBoostingRegressor\n",
    "reg:gbr[`learning_rate pykw .1;`n_estimators pykw 200;`random_state pykw rand 1000]\n",
    "\n",
    "/ fit and predict with initial data\n",
    "reg[`:fit][dict1`xtrain;dict1`ytrain]`;\n",
    "pred1:reg[`:predict][dict1`xtest]`\n",
    "\n",
    "/ fit and predict with unfiltered data\n",
    "reg[`:fit][dict2`xtrain;dict2`ytrain]`;\n",
    "pred2:reg[`:predict][dict2`xtest]`\n",
    "\n",
    "/ fit and predict with filtered data\n",
    "reg[`:fit][dict3`xtrain;dict3`ytrain]`;\n",
    "pred3:reg[`:predict][dict3`xtest]`"
   ]
  },
  {
   "cell_type": "markdown",
   "metadata": {},
   "source": [
    "### Results\n",
    "\n",
    "Below the mean squared error and R2-score are calculated between the true and predicted target values of the next day close price. These are reasonable indicators of model accuracy. We will compare results with the benchmark which states that today's close price is the best indicator of what tomorrow's close will be."
   ]
  },
  {
   "cell_type": "code",
   "execution_count": 22,
   "metadata": {},
   "outputs": [
    {
     "name": "stdout",
     "output_type": "stream",
     "text": [
      "Mean Squared Error (MSE)\n",
      "--------------------------\n",
      "Untreated data:  55.73892\n",
      "Unflitered data: 33.93949\n",
      "Filtered data:   30.3515\n",
      "\n",
      "MSE between current and previous day would be: 28.48191\n"
     ]
    }
   ],
   "source": [
    "-1\"Mean Squared Error (MSE)\";\n",
    "-1\"--------------------------\";\n",
    "-1\"Untreated data:  \",string .ml.mse[pred1;dict1`ytest];\n",
    "-1\"Unflitered data: \",string .ml.mse[pred2;dict2`ytest];\n",
    "-1\"Filtered data:   \",string .ml.mse[pred3;dict3`ytest];\n",
    "-1\"\\nMSE between current and previous day would be: \",string .ml.mse . 1 -1_\\:amzndaydata`close;"
   ]
  },
  {
   "cell_type": "code",
   "execution_count": 23,
   "metadata": {},
   "outputs": [
    {
     "name": "stdout",
     "output_type": "stream",
     "text": [
      "R2-score\n",
      "--------------------------\n",
      "Untreated data:  0.9991182\n",
      "Unflitered data: 0.9994704\n",
      "Filtered data:   0.9994687\n",
      "\n",
      "R2-score between current and previous day would be: 0.9995261\n"
     ]
    }
   ],
   "source": [
    "-1\"R2-score\";\n",
    "-1\"--------------------------\";\n",
    "-1\"Untreated data:  \",string .ml.r2Score[pred1;dict1`ytest];\n",
    "-1\"Unflitered data: \",string .ml.r2Score[pred2;dict2`ytest];\n",
    "-1\"Filtered data:   \",string .ml.r2Score[pred3;dict3`ytest];\n",
    "-1\"\\nR2-score between current and previous day would be: \",string .ml.r2Score . 1 -1_\\:amzndaydata`close;"
   ]
  },
  {
   "cell_type": "markdown",
   "metadata": {},
   "source": [
    "We can also compare the true and predicted values for the next days close price using a line graph."
   ]
  },
  {
   "cell_type": "code",
   "execution_count": 24,
   "metadata": {},
   "outputs": [
    {
     "data": {
      "image/png": "[encoded data removed]",
      "text/plain": [
       "<Figure size 1080x360 with 1 Axes>"
      ]
     },
     "metadata": {},
     "output_type": "display_data"
    }
   ],
   "source": [
    ".util.plotprxpred[dict2`ytest;pred2]"
   ]
  },
  {
   "cell_type": "markdown",
   "metadata": {},
   "source": [
    "### Conclusions\n",
    "\n",
    "Multiple runs of the above fit and results sections give an indication both of the usefulness of this form of analysis and the difficulty which is posed in the prediction of stock information. \n",
    "\n",
    "In the majority of cases it is seen that the mean squared error decreases in the order:\n",
    "\n",
    "1. Untreated Data\n",
    "2. Extracted Features without significance testing\n",
    "3. Extracted Features with significance testing\n",
    "4. Yesterday's price = Today's price\n",
    "\n",
    "Large variations in the mean squared error can occur depending on how the data is split by the `.ml.trainTestSplit` function. This is related to the inclusion/omission of specific events which would cause large errors in prediction, such as issues with the global economy or issues with staff. It can also have a detrimental effect on the order seen above with variations in this order possible if the features extracted from the split data are not truly indicative of the behaviour of the system."
   ]
  },
  {
   "cell_type": "markdown",
   "metadata": {},
   "source": [
    "---"
   ]
  },
  {
   "cell_type": "markdown",
   "metadata": {},
   "source": [
    "<a id='Wafer'></a>\n",
    "# Abnormal Wafer Detection In Semiconductor Production"
   ]
  },
  {
   "cell_type": "markdown",
   "metadata": {},
   "source": [
    "Detecting defects in production processes is an issue of great interest for manufacturing companies. In order for these companies to save money during production, it is important that they invest in systems which can detect malfunctioned or abnormal products early on. These systems are usually comprised of several sensors that measure different features of a device when exposed to distinct conditions over a certain period of time. \n",
    "\n",
    "One problem with these systems is that they produce vast amounts of time-series data which has to be interpreted by engineers or data scientists. One solution is therefore to use artificial intelligence. Some tech companies already use machine learning techniques to try and improve their manufacturing pipeline and results have been satisfactory in many cases thanks to well developed processes that range from data preparation to model training. \n",
    "\n",
    "In this notebook, the FRESH library is used to pre-process the data and extract significant features. Data is then passed to a Random Forest classifier in order to predict the normality or otherwise of the wafers produced during the manufacturing process.  In a manufacturing environment, it is important to check their quality to allow defective wafers to be removed from the manufacturing pipeline."
   ]
  },
  {
   "cell_type": "markdown",
   "metadata": {},
   "source": [
    "## Wafer Database"
   ]
  },
  {
   "cell_type": "markdown",
   "metadata": {},
   "source": [
    "We are interested in the [Wafer Database](https://www.cs.cmu.edu/~bobski/data/data.html) - a collection of time-series datasets obtained while monitoring an operational semiconductor fabrication plant. In electronics, a wafer is a thin slice of semiconductor material usually employed in the fabrication of integrated circuits, micro-devices or solar cells.\n",
    "\n",
    "Each dataset in the Wafer Database contains features and associated labels for each wafer, recorded by 6 different sensors during the production of a single wafer with one tool.\n",
    "\n",
    "All data was previously loaded and pre-processed using kdb+/q post download into its current form of two csv files:\n",
    "- **data.csv** (8 columns): contains `id` - unique ID for each wafer, `time` - time-series for each ID and 6 signal columns with values from each sensor at each time.\n",
    "- **labels.csv** (2 columns): contains `id` and `class` - a value of 0 or 1 indicating whether the wafer is considered to be normal or abnormal, where abnormal takes a value of 1 as the positive class, and 0 otherwise.\n"
   ]
  },
  {
   "cell_type": "markdown",
   "metadata": {},
   "source": [
    "### Load data\n",
    "Below we load in in the Wafer Database and check for any null values."
   ]
  },
  {
   "cell_type": "code",
   "execution_count": 25,
   "metadata": {},
   "outputs": [
    {
     "name": "stdout",
     "output_type": "stream",
     "text": [
      "id      time feat11 feat12 feat15 feat6 feat7 feat8\n",
      "---------------------------------------------------\n",
      "1549_01 0    2      -11    -1     3     24    10   \n",
      "1549_01 1    2      -11    -1     3     25    10   \n",
      "1549_01 2    2      -11    0      3     24    10   \n",
      "1549_01 3    2      -11    -1     3     25    10   \n",
      "1549_01 4    2      -11    0      3     25    477  \n",
      "\n",
      "Shape of features: 163283 x 8\n",
      "\n",
      "id      target\n",
      "--------------\n",
      "1549_01 1     \n",
      "1549_02 1     \n",
      "1549_04 1     \n",
      "1549_06 1     \n",
      "1549_07 1     \n",
      "\n",
      "Shape of targets: 1194 x 2\n"
     ]
    }
   ],
   "source": [
    "show 5#data:(\"SIIIIIII\";(),\",\")0:`:../data/waferdata.csv\n",
    "-1\"\\nShape of features: \",(a:\" x \"sv string .ml.shape data),\"\\n\";\n",
    "show 5#targ:(\"SI\";(),\",\")0:`:../data/wafertargets.csv\n",
    "-1\"\\nShape of targets: \",\" x \"sv string .ml.shape targ;"
   ]
  },
  {
   "cell_type": "code",
   "execution_count": 26,
   "metadata": {},
   "outputs": [
    {
     "data": {
      "text/plain": [
       "0\n"
      ]
     },
     "execution_count": 26,
     "metadata": {},
     "output_type": "execute_result"
    }
   ],
   "source": [
    "/check for nulls\n",
    "count where any null flip data"
   ]
  },
  {
   "cell_type": "markdown",
   "metadata": {},
   "source": [
    "Given that the dataset does not contain any null values and is equally spaced with time, there is no need for the time column to be present. Therefore, it can be removed from the data."
   ]
  },
  {
   "cell_type": "code",
   "execution_count": 27,
   "metadata": {},
   "outputs": [],
   "source": [
    "data:delete time from data"
   ]
  },
  {
   "cell_type": "markdown",
   "metadata": {},
   "source": [
    "### Target values\n",
    "As the aim is to find features in the time series that indicate whether a wafer is normal or abnormal, this can be treated as a classification problem. It is therefore important to check if there is a balanced distribution between the labels."
   ]
  },
  {
   "cell_type": "code",
   "execution_count": 28,
   "metadata": {},
   "outputs": [
    {
     "data": {
      "text/plain": [
       "target| num  pcnt     wafer   \n",
       "------| ----------------------\n",
       "0     | 1067 89.36348 normal  \n",
       "1     | 127  10.63652 abnormal\n"
      ]
     },
     "execution_count": 28,
     "metadata": {},
     "output_type": "execute_result"
    }
   ],
   "source": [
    "target:targ`target\n",
    "update pcnt:100*num%sum num,wafer:`normal`abnormal from n:select num:count i by target from([]target:target)"
   ]
  },
  {
   "cell_type": "markdown",
   "metadata": {},
   "source": [
    "The dataset is very unbalanced, with only around 11% of the data belonging to the abnormal class. This would likely have been picked up later in the manufacturing pipeline and could have been costly to the manufacturer.\n",
    "\n",
    "The class imbalance should be taken into consideration when training the machine learning model, given that it could cause the model to predict that all the wafers are normal, giving a high accuracy, but a useless model. Additionally, this also needs to be taken into account when measuring model performance, where several metrics should be considered in addition to accuracy."
   ]
  },
  {
   "cell_type": "markdown",
   "metadata": {},
   "source": [
    "### Feature Extraction\n",
    "\n",
    "At this stage it is possible to use FRESH to extract additional features that will benefit the model when training. Features are produced based on unique IDs, removing the `id` column during feature extraction."
   ]
  },
  {
   "cell_type": "code",
   "execution_count": 29,
   "metadata": {},
   "outputs": [
    {
     "name": "stdout",
     "output_type": "stream",
     "text": [
      "id     | feat11_absEnergy feat11_absSumChange feat11_count feat11_countAboveMean feat11_countBelo..\n",
      "-------| ----------------------------------------------------------------------------------------..\n",
      "1549_01| 1.666914e+08     6590                137          98                    39              ..\n",
      "1549_02| 1.680301e+08     6470                143          99                    44              ..\n",
      "1549_04| 1.548667e+08     6406                144          98                    46              ..\n",
      "1549_06| 1.609981e+08     6566                145          98                    47              ..\n",
      "1549_07| 1.671974e+08     6562                143          99                    44              ..\n",
      "\n",
      "Shape: 1194 x 1698\n"
     ]
    }
   ],
   "source": [
    "dict:.ml.fresh.params\n",
    "show 5#createdfeatures:.ml.fresh.createFeatures[data;`id;1_cols data;dict]\n",
    "-1\"\\nShape: \",b:\" x \"sv string .ml.shape createdfeatures;"
   ]
  },
  {
   "cell_type": "markdown",
   "metadata": {},
   "source": [
    "### Feature selection\n",
    "\n",
    "Carrying out statistical-significance tests is useful to determine how useful each created feature is for predicting the target vector.\n",
    "\n",
    "In the case of binary classification, two types of significance tests are used: Kolmogorov-Smirnov and Fisher-Exact. Each test returns a p-value, which can be passed to the Benjamini-Hochberg-Yekutieli (BHY) procedure. This determines if the feature meets a defined False Discovery Rate (FDR) level (set at 5% by default)."
   ]
  },
  {
   "cell_type": "code",
   "execution_count": 30,
   "metadata": {},
   "outputs": [
    {
     "name": "stdout",
     "output_type": "stream",
     "text": [
      "id     | feat11_binnedEntropy_numBins_10 feat11_binnedEntropy_numBins_5 feat11_ratioBeyondRSigma_..\n",
      "-------| ----------------------------------------------------------------------------------------..\n",
      "1549_01| 0.9766542                       0.9112366                      0.379562                 ..\n",
      "1549_02| 0.9373918                       0.8993726                      0.4055944                ..\n",
      "1549_04| 0.9640302                       0.8928188                      0.4097222                ..\n",
      "1549_06| 0.9653513                       0.9278565                      0.4137931                ..\n",
      "1549_07| 0.9373918                       0.8993726                      0.4055944                ..\n",
      "\n",
      "Shape of data\n",
      "-------------------------------\n",
      "Initial dataset:    163283 x 8\n",
      "Unfiltered dataset: 1194 x 1698\n",
      "Filtered dataset:   1194 x 957\n"
     ]
    }
   ],
   "source": [
    "/select significant features\n",
    "sigcols:.ml.fresh.significantFeatures[t:value createdfeatures;target;.ml.fresh.benjhoch 0.05]\n",
    "show 5#sigfeattab:key[createdfeatures]!sigcols#t\n",
    "-1\"\\nShape of data\";\n",
    "-1\"-------------------------------\";\n",
    "-1\"Initial dataset:    \",a;\n",
    "-1\"Unfiltered dataset: \",b;\n",
    "-1\"Filtered dataset:   \",\" x \"sv string .ml.shape sigfeattab;"
   ]
  },
  {
   "cell_type": "markdown",
   "metadata": {},
   "source": [
    "### Benchmark\n",
    "\n",
    "As a benchmark we generate the average value for each feature per id."
   ]
  },
  {
   "cell_type": "code",
   "execution_count": 31,
   "metadata": {},
   "outputs": [
    {
     "name": "stdout",
     "output_type": "stream",
     "text": [
      "id     | feat11   feat12   feat15    feat6    feat7     feat8   \n",
      "-------| -------------------------------------------------------\n",
      "1549_01| 911.7883 657.0219 -70.19708 398.3577 -59.9927  1326.131\n",
      "1549_02| 875.2867 623.7343 -66.62937 386.951  -61.65035 1260.979\n",
      "1549_04| 829.2986 575.3889 -52.17361 380.1319 -57.3125  1273.271\n",
      "1549_06| 843      635.9724 -66.75172 377.2345 -60.23448 1274.641\n",
      "1549_07| 872.7133 586.3776 -62.42657 386.7133 -63.09091 1261.371\n"
     ]
    }
   ],
   "source": [
    "show 5#benchmark:select avg feat11,avg feat12,avg feat15,avg feat6,avg feat7,avg feat8 by id from data\n",
    "benchmarktest:.util.mattab value benchmark"
   ]
  },
  {
   "cell_type": "markdown",
   "metadata": {},
   "source": [
    "### Prepare data\n",
    "Before we can train a model, data must be prepared by first converting features to a matrix.\n",
    "\n",
    "Data will then be split into training and testing sets. Below we select 20% to be present in the testing set."
   ]
  },
  {
   "cell_type": "code",
   "execution_count": 32,
   "metadata": {},
   "outputs": [],
   "source": [
    "featmat:.util.mattab value sigfeattab\n",
    "dict1:.ml.trainTestSplit[featmat;target;.2]\n",
    "dict2:.ml.trainTestSplit[benchmarktest;target;.2]"
   ]
  },
  {
   "cell_type": "markdown",
   "metadata": {},
   "source": [
    "### Fit and evaluate model\n",
    "\n",
    "At this stage we can fit to a random forest model and make predictions.\n",
    "\n",
    "Random forests are the preferred algorithms for many machine learning experts. They tend to provide very good results based on decision trees, which are therefore easy to interpret. Additionally, they do not require the appropriate architecture to be built, nor do they require as much training as neural networks.\n",
    "\n",
    "Results will be able to show how informative the application of feature extraction and significance tests have been in the prediction of the wafer state. They can also be compared to the naive case where all wafers are assumed to be normal."
   ]
  },
  {
   "cell_type": "code",
   "execution_count": 33,
   "metadata": {},
   "outputs": [
    {
     "name": "stderr",
     "output_type": "stream",
     "text": [
      "[Parallel(n_jobs=1)]: Using backend SequentialBackend with 1 concurrent workers.\n",
      "[Parallel(n_jobs=1)]: Done 500 out of 500 | elapsed:    3.4s finished\n",
      "[Parallel(n_jobs=1)]: Using backend SequentialBackend with 1 concurrent workers.\n",
      "[Parallel(n_jobs=1)]: Done 500 out of 500 | elapsed:    0.0s finished\n",
      "[Parallel(n_jobs=1)]: Using backend SequentialBackend with 1 concurrent workers.\n",
      "[Parallel(n_jobs=1)]: Done 500 out of 500 | elapsed:    0.6s finished\n",
      "[Parallel(n_jobs=1)]: Using backend SequentialBackend with 1 concurrent workers.\n",
      "[Parallel(n_jobs=1)]: Done 500 out of 500 | elapsed:    0.0s finished\n"
     ]
    }
   ],
   "source": [
    "/ initialize model\n",
    "rfc:.p.import[`sklearn.ensemble;`:RandomForestClassifier]\n",
    "clf:rfc[`n_estimators pykw 500;`random_state pykw 50;`verbose pykw 1]\n",
    "\n",
    "/ train/test model with FRESH features\n",
    "clf[`:fit][dict1`xtrain;dict1`ytrain]`;\n",
    "pred1:clf[`:predict][dict1`xtest]`\n",
    "\n",
    "/ train/test model with benchmark features\n",
    "clf[`:fit][dict2`xtrain;dict2`ytrain]`;\n",
    "pred2:clf[`:predict][dict2`xtest]`"
   ]
  },
  {
   "cell_type": "markdown",
   "metadata": {},
   "source": [
    "## Results\n",
    "To account for the class imbalance in the data, multiple performance metrics have been used - *precision*, *recall*, *f1-score*, *support* and *accuracy*. We will also plot confusion matrices for each model to visualize the results."
   ]
  },
  {
   "cell_type": "code",
   "execution_count": 34,
   "metadata": {},
   "outputs": [],
   "source": [
    "/Find naive results\n",
    "\\S 49\n",
    "naivetrue:(n:count dict2`ytest)?target\n",
    "naivepred:n#0i"
   ]
  },
  {
   "cell_type": "code",
   "execution_count": 35,
   "metadata": {},
   "outputs": [
    {
     "name": "stdout",
     "output_type": "stream",
     "text": [
      "FRESH:\n",
      "class    | precision recall f1_score support\n",
      "---------| ---------------------------------\n",
      "0        | 1         1      1        224    \n",
      "1        | 1         1      1        15     \n",
      "avg/total| 1         1      1        239    \n",
      "\n",
      "Benchmark:\n",
      "class    | precision recall    f1_score  support\n",
      "---------| -------------------------------------\n",
      "0        | 0.9860465 0.9953052 0.9906542 213    \n",
      "1        | 0.9583333 0.8846154 0.92      26     \n",
      "avg/total| 0.9721899 0.9399603 0.9553271 239    \n",
      "\n",
      "Naive:\n",
      "class    | precision recall f1_score  support\n",
      "---------| ----------------------------------\n",
      "0        | 0.9037657 1      0.9494505 216    \n",
      "1        |           0      0         23     \n",
      "avg/total| 0.9037657 0.5    0.4747253 239    \n",
      "\n",
      "Number misclassified\n",
      "-------------------------\n",
      "FRESH model:     0\n",
      "Benchmark model: 4\n",
      "Naive model:     23\n",
      "\n",
      "Accuracy score\n",
      "-------------------------\n",
      "FRESH model:     1\n",
      "Benchmark model: 0.9832636\n",
      "Naive model:     0.9037657\n"
     ]
    }
   ],
   "source": [
    "-1\"FRESH:\";\n",
    "show .ml.classReport[pred1;dict1`ytest]\n",
    "-1\"\\nBenchmark:\";\n",
    "show .ml.classReport[pred2;dict2`ytest]\n",
    "-1\"\\nNaive:\";\n",
    "show .ml.classReport[naivepred;naivetrue]\n",
    "\n",
    "-1\"\\nNumber misclassified\";\n",
    "-1\"-------------------------\";\n",
    "-1\"FRESH model:     \",string sum pred1<>dict1`ytest;\n",
    "-1\"Benchmark model: \",string sum pred2<>dict2`ytest;\n",
    "-1\"Naive model:     \",string sum naivetrue<>naivepred;\n",
    "\n",
    "-1\"\\nAccuracy score\";\n",
    "-1\"-------------------------\";\n",
    "-1\"FRESH model:     \",string .ml.accuracy[pred1;dict1`ytest];\n",
    "-1\"Benchmark model: \",string .ml.accuracy[pred2;dict2`ytest];\n",
    "-1\"Naive model:     \",string .ml.accuracy[naivepred;naivetrue];"
   ]
  },
  {
   "cell_type": "code",
   "execution_count": 36,
   "metadata": {},
   "outputs": [
    {
     "data": {
      "image/png": "[encoded data removed]",
      "text/plain": [
       "<Figure size 360x360 with 1 Axes>"
      ]
     },
     "metadata": {},
     "output_type": "display_data"
    },
    {
     "data": {
      "image/png": "[encoded data removed]",
      "text/plain": [
       "<Figure size 360x360 with 1 Axes>"
      ]
     },
     "metadata": {},
     "output_type": "display_data"
    },
    {
     "data": {
      "image/png": "[encoded data removed]",
      "text/plain": [
       "<Figure size 360x360 with 1 Axes>"
      ]
     },
     "metadata": {},
     "output_type": "display_data"
    }
   ],
   "source": [
    "dcm:.util.displayCM[;`Normal`Abnormal;\"Test Set Confusion Matrix\";()]\n",
    "dcm value .ml.confMatrix[pred1;dict1`ytest]\n",
    "dcm value .ml.confMatrix[pred2;dict2`ytest]\n",
    "dcm value .ml.confMatrix[naivepred;naivetrue]"
   ]
  },
  {
   "cell_type": "markdown",
   "metadata": {},
   "source": [
    "### Conclusions\n",
    "\n",
    "Looking at the results produced, it is clear that the dataset that used the FRESH library produced better performance metrics than both the benchmark and naive models. By using FRESH, we have improved the ability to predict the normality or otherwise of the wafers produced during the manufacturing process. This model produced a much higher accuracy than both alternative models with only 4 wafers misclassified, compared to 7 for the benchmark model and 23 for the naive model.\n",
    "\n",
    "These results give an insight into the potential use of this form of analysis in the manufacturing sector, particularly given the large volumes of data consistently recorded in modern manufacturing processes. It also offers the potential for reductions in redundant labour and manufacturing procedures thus reducing the overall cost of the manufacturing pipeline."
   ]
  },
  {
   "cell_type": "markdown",
   "metadata": {},
   "source": [
    "---"
   ]
  }
 ],
 "metadata": {
  "kernelspec": {
   "display_name": "Q (kdb+)",
   "language": "q",
   "name": "qpk"
  },
  "language_info": {
   "file_extension": ".q",
   "mimetype": "text/x-q",
   "name": "q",
   "version": "4.0"
  }
 },
 "nbformat": 4,
 "nbformat_minor": 2
}
