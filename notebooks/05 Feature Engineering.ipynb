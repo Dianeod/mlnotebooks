{
 "cells": [
  {
   "cell_type": "markdown",
   "metadata": {},
   "source": [
    "# Machine Learning Demonstrations"
   ]
  },
  {
   "cell_type": "markdown",
   "metadata": {},
   "source": [
    "In this notebook, we showcase how to use kdb+/q paired with embedPy to carry out machine learning tasks.\n",
    "\n",
    "Below we will examine the impact of applying scaling algorithms on a k-nearest neighbours classification model, applied to the Wisconsin Breast Cancer dataset. We will then investigate the impact of using one-hot encoding vs. basic enumeration using a neural network applied to the MNIST dataset.\n",
    "\n",
    "<div class=\"alert alert-danger\">\n",
    "To run the below notebook, ensure that dependencies specified in <b>requirements.txt</b> have been correctly installed.\n",
    "</div>"
   ]
  },
  {
   "cell_type": "markdown",
   "metadata": {},
   "source": [
    "## EmbedPy"
   ]
  },
  {
   "cell_type": "markdown",
   "metadata": {},
   "source": [
    "EmbedPy allows the kdb+/q interpreter to manipulate Python objects, call Python functions and load Python libraries. Python and kdb+/q developers can fuse both technologies together, allowing for a seamless application of kdb+/q’s high-speed analytics and Python’s rich ecosystem of libraries such as scikit-learn, Tensorflow, PyTorch and Theano."
   ]
  },
  {
   "cell_type": "markdown",
   "metadata": {},
   "source": [
    "## Feature Engineering"
   ]
  },
  {
   "cell_type": "markdown",
   "metadata": {},
   "source": [
    "Feature engineering is the process of modifying input features to make machine learning algorithms work more effectively. Manual feature engineering requires both:\n",
    "- Knowledge of the chosen algorithm.\n",
    "- Domain knowledge of the dataset."
   ]
  },
  {
   "cell_type": "markdown",
   "metadata": {},
   "source": [
    "## Normalization"
   ]
  },
  {
   "cell_type": "markdown",
   "metadata": {},
   "source": [
    "Certain machine learning algorithms (e.g. k-nearest neighbours) require the calculation of a distance between points in the feature space. The features must, therefore, all be on the same scale otherwise the feature with the most magnified scale will get the highest weighting.\n",
    "\n",
    "The process of scaling features is called **normalization**. A number of algorithms are available within scikit-learn to carry out the process of feature scaling:\n",
    "\n",
    "[Standard Scaler](http://scikit-learn.org/stable/modules/generated/sklearn.preprocessing.StandardScaler.html#sklearn.preprocessing.StandardScaler):\n",
    "- Scales data via a linear transformation that transforms the mean value of each feature to 0 and the standard deviation of each feature to 1.\n",
    "- This has the advantage of being simple, fast and easily explainable.\n",
    "- However, standard scalar is not robust to outliers.\n",
    "\n",
    "[MinMax Scaler](http://scikit-learn.org/stable/modules/generated/sklearn.preprocessing.MinMaxScaler.html#sklearn.preprocessing.MinMaxScaler):\n",
    "- Scales data via a linear transformation that transforms the minimum and maximum values of each feature to [0,1]. - This again has the advantage of being simple, fast and easily explainable.\n",
    "- However, standard scalar is not robust to outliers.\n",
    "\n",
    "[Robust Scaler](http://scikit-learn.org/stable/modules/generated/sklearn.preprocessing.RobustScaler.html#sklearn.preprocessing.RobustScaler):\n",
    "- Scales data via a linear transformation that transforms the interquartile range of each feature to [-1,1].\n",
    "- This scaler is robust to the presence of outliers, as they will lie outside the interquartile range.\n",
    "- However, outliers will continue to lie away from the majority of points and can therefore have an outsize impact on predictions.\n",
    "\n",
    "[Quantiles Transformer](http://scikit-learn.org/stable/modules/generated/sklearn.preprocessing.QuantileTransformer.html#sklearn.preprocessing.QuantileTransformer):\n",
    "- Converts the distribution of each feature to a standard normal distribution. This is not a linear transformation, but a transformation based on the distribution of the inputs.\n",
    "- This transformation is very sensitive to outliers, but the distribution of the scalar's output is always the same.\n",
    "- This method would be most relevant where the levels of a feature were basically meaningless, but the rank ordering of the feature was important.\n",
    "\n",
    "We can look at the effect of the four different normalizers on random data generated from four different distributions:\n",
    "- Normal\n",
    "- Uniform\n",
    "- Gamma\n",
    "- Student-T\n",
    "- Mixture of gaussians\n",
    "\n",
    "Looking at the normalized distributions, we see that the effect of normalization can be quite different, depending on the distribution of the unscaled data, e.g. even after applying the Standard Scaler, data drawn from fat-tailed distributions still have values that are an order-of-magnitude larger than others. \n",
    "\n",
    "<img src=\"images/scalers.png\" />"
   ]
  },
  {
   "cell_type": "markdown",
   "metadata": {},
   "source": [
    "### Sections\n",
    "\n",
    "This notebook is split into two sections:\n",
    "\n",
    "1. [Breast Cancer Data](#Breast-Cancer)\n",
    "2. [MNIST Dataset](#MNIST)"
   ]
  },
  {
   "cell_type": "code",
   "execution_count": 1,
   "metadata": {},
   "outputs": [],
   "source": [
    "/ load toolkit and graphics functions\n",
    "\\l ml/ml.q\n",
    ".ml.loadfile`:util/init.q\n",
    "\n",
    "\\l ../utils/graphics.q\n",
    "\\l ../utils/util.q"
   ]
  },
  {
   "cell_type": "markdown",
   "metadata": {},
   "source": [
    "---"
   ]
  },
  {
   "cell_type": "markdown",
   "metadata": {},
   "source": [
    "<a id='Breast-Cancer'></a>\n",
    "# Breast Cancer Data"
   ]
  },
  {
   "cell_type": "markdown",
   "metadata": {},
   "source": [
    "The [Wisconsin Breast Cancer Dataset](https://archive.ics.uci.edu/ml/datasets/Breast+Cancer+Wisconsin+%28Diagnostic%29) is a set of 569 samples of fine needle aspirate (FNA) of breast mass. Each sample contains features describing characteristics of the cell nuclei, along with a classification of the sample as either benign or malignant."
   ]
  },
  {
   "cell_type": "markdown",
   "metadata": {},
   "source": [
    "### Load data\n",
    "\n",
    "In the cell below, we load in the utilities library from the kdb+/q [ML-Toolkit](https://github.com/KxSystems/ml), along with graphics functions required for this notebook. We then use embedPy to import relevant python modules and load data from the Wisconsin Breast Cancer dataset.\n",
    "\n",
    "Data is split into training and testing sets where we chosen to select 50% of the data for the testing set."
   ]
  },
  {
   "cell_type": "code",
   "execution_count": 2,
   "metadata": {},
   "outputs": [
    {
     "name": "stdout",
     "output_type": "stream",
     "text": [
      "Shape of features is 569 x 30\n",
      "\n",
      "17.99 10.38 122.8 1001  0.1184  0.2776  0.3001 0.1471  0.2419 0.07871 1.095  ..\n",
      "20.57 17.77 132.9 1326  0.08474 0.07864 0.0869 0.07017 0.1812 0.05667 0.5435 ..\n",
      "19.69 21.25 130   1203  0.1096  0.1599  0.1974 0.1279  0.2069 0.05999 0.7456 ..\n",
      "11.42 20.38 77.58 386.1 0.1425  0.2839  0.2414 0.1052  0.2597 0.09744 0.4956 ..\n",
      "20.29 14.34 135.1 1297  0.1003  0.1328  0.198  0.1043  0.1809 0.05883 0.7572 ..\n",
      "\n",
      "Distribution of target values is:\n",
      "\n",
      "target| num pcnt \n",
      "------| ---------\n",
      "0     | 212 37.26\n",
      "1     | 357 62.74\n",
      "\n",
      "Training/test split is:\n",
      "\n",
      "xtrain| 284\n",
      "ytrain| 284\n",
      "xtest | 285\n",
      "ytest | 285\n"
     ]
    }
   ],
   "source": [
    "/ load data and split into train/test sets\n",
    "data:.p.import[`sklearn.datasets;`:load_breast_cancer][]\n",
    "feat:data[`:data]`\n",
    "targ:data[`:target]`\n",
    "datadict:.ml.trainTestSplit[feat;targ;.5]\n",
    "\n",
    "/ inspect data\n",
    "-1\"Shape of features is \",sv[\" x \"]string .ml.shape feat;\n",
    "-1\"\";show 5#feat;-1\"\";\n",
    "-1\"Distribution of target values is:\\n\";\n",
    "show update pcnt:.util.round[;.01]100*num%sum num from select num:count i by target from([]target:targ);\n",
    "-1\"\\nTraining/test split is:\\n\";\n",
    "show count each datadict"
   ]
  },
  {
   "cell_type": "markdown",
   "metadata": {},
   "source": [
    "We have deliberately retained a large proportion (50%) of our data for final testing so that the accuracy rates reflect performance on a significant amount of 'previously unseen' data."
   ]
  },
  {
   "cell_type": "markdown",
   "metadata": {},
   "source": [
    "### Preprocess data and test models\n",
    "\n",
    "Below we compare four methods of normalization by applying each to the dataset and training/testing a k-nearest neighbours classifier.\n",
    "\n",
    "A maximum value of k equal to 200 is used throughout."
   ]
  },
  {
   "cell_type": "code",
   "execution_count": 3,
   "metadata": {},
   "outputs": [],
   "source": [
    "/ import normalization methods\n",
    "preproc:.p.import[`sklearn.preprocessing]\n",
    "standard:preproc`:StandardScaler\n",
    "minmax  :preproc`:MinMaxScaler\n",
    "robust  :preproc`:RobustScaler\n",
    "quantile:preproc`:QuantileTransformer\n",
    "\n",
    "/ import classifier\n",
    "knclassifier:.p.import[`sklearn.neighbors]`:KNeighborsClassifier\n",
    "\n",
    "/ inputs\n",
    "maxk:200\n",
    "colors:`r`g`b`y`k\n",
    "normalizers:standard[],minmax[],robust[],quantile[]\n",
    "name:`Standard`MinMax`Robust`Quantiles;\n",
    "accs:(count[normalizers],maxk)#`float$0"
   ]
  },
  {
   "cell_type": "code",
   "execution_count": 4,
   "metadata": {},
   "outputs": [],
   "source": [
    "/ cross validation function\n",
    "xval:{[i;norm;k]\n",
    " clf:knclassifier k;\n",
    " clf[`:fit][norm[`:transform]datadict`xtest;datadict`ytest];\n",
    " pred:clf[`:predict][norm[`:transform]datadict`xtest]`;\n",
    " accs[i;k-1]::.ml.accuracy[pred;datadict`ytest];}\n",
    "\n",
    "/ function to perform cross validation, plot accuracy results\n",
    "results:{[i;norm;name;k]\n",
    " normalizer:norm[i][`:fit]datadict`xtrain;\n",
    " xval[i;normalizer]each 1+til k;\n",
    " ax[`:plot][til k;accs i;colors i;`label pykw name i];}"
   ]
  },
  {
   "cell_type": "code",
   "execution_count": 5,
   "metadata": {},
   "outputs": [
    {
     "data": {
      "image/png": "[encoded data removed]",
      "text/plain": [
       "<Figure size 1080x720 with 1 Axes>"
      ]
     },
     "metadata": {},
     "output_type": "display_data"
    }
   ],
   "source": [
    "/ initialize the plot\n",
    "plot:.util.plt[`:subplots][];\n",
    "fig :plot[@;0];\n",
    "ax  :plot[@;1];\n",
    "\n",
    "/ obtain results\n",
    "results[;normalizers;name;maxk]each til count normalizers;\n",
    "\n",
    "/ customize the plot\n",
    "fig[`:set_figheight]10;\n",
    "fig[`:set_figwidth]15;\n",
    ".util.plt[`:xlabel]\"Number of neighbours (k)\";\n",
    ".util.plt[`:ylabel]\"Accuracy\";\n",
    ".util.plt[`:title ]\"Accuracy vs. Number of Neighbors (k)\";\n",
    ".util.plt[`:legend][`loc pykw\"lower left\"];\n",
    ".util.plt[`:show][];"
   ]
  },
  {
   "cell_type": "markdown",
   "metadata": {},
   "source": [
    "The different scalers perform comparably for the optimal values.  However, the quantiles tranformer proves considerably more robust as k increases. This suggests that, at least for a subset of the features, ordering is more important compared to actual feature values."
   ]
  },
  {
   "cell_type": "markdown",
   "metadata": {},
   "source": [
    "---"
   ]
  },
  {
   "cell_type": "markdown",
   "metadata": {},
   "source": [
    "# MNIST (Handwritten Digits) Database"
   ]
  },
  {
   "cell_type": "markdown",
   "metadata": {},
   "source": [
    "The [Modified National Institute of Standards and Technology (MNIST) Database](https://keras.io/datasets/), is a large collection of handwritten digits.\n",
    "\n",
    "MNIST is commonly used for training and testing image processing systems, particularly in the field of machine learning."
   ]
  },
  {
   "cell_type": "markdown",
   "metadata": {},
   "source": [
    "### Load data\n",
    "\n",
    "In the cell below, we load data from the MNIST database imto training and testing sets."
   ]
  },
  {
   "cell_type": "code",
   "execution_count": 6,
   "metadata": {},
   "outputs": [
    {
     "name": "stderr",
     "output_type": "stream",
     "text": [
      "Using TensorFlow backend.\n"
     ]
    },
    {
     "name": "stdout",
     "output_type": "stream",
     "text": [
      "60000 samples of shape 28 x 28\n",
      "\n",
      "0 0 0 0 0         0         0          0          0          0          0    ..\n",
      "0 0 0 0 0 0 0         0          0         0          0         0          0 ..\n",
      "0 0 0 0         0         0         0         0         0         0         0..\n",
      "0 0 0 0 0 0 0 0 0          0         0         0         0         0         ..\n",
      "0 0 0 0 0 0 0          0         0         0          0          0          0..\n",
      "\n",
      "Distribution of target values is:\n",
      "\n",
      "target| num  pcnt \n",
      "------| ----------\n",
      "0     | 5923 9.87 \n",
      "1     | 6742 11.24\n",
      "2     | 5958 9.93 \n",
      "3     | 6131 10.22\n",
      "4     | 5842 9.74 \n",
      "5     | 5421 9.04 \n",
      "6     | 5918 9.86 \n",
      "7     | 6265 10.44\n",
      "8     | 5851 9.75 \n",
      "9     | 5949 9.92 \n",
      "\n",
      "Training/test split is:\n",
      "\n",
      "xtrain| 60000\n",
      "ytrain| 60000\n",
      "xtest | 10000\n",
      "ytest | 10000\n"
     ]
    }
   ],
   "source": [
    "mnist:.p.import[`keras.datasets.mnist][`:load_data;<][]\n",
    "data:raze(`xtrain`ytrain;`xtest`ytest)!'mnist\n",
    "data:@[data;`xtrain`xtest;%;255]\n",
    "data:@[data;`ytrain`ytest;\"f\"$]\n",
    "\n",
    "/ inspect data\n",
    "-1 string[count data`xtrain],\" samples of shape \",sv[\" x \"]string 1_.ml.shape data`xtrain;\n",
    "-1\"\";show 5#data`xtrain;-1\"\";\n",
    "-1\"Distribution of target values is:\\n\";\n",
    "show update pcnt:.util.round[;.01]100*num%sum num from select num:count i by target from([]target:data`ytrain);\n",
    "-1\"\\nTraining/test split is:\\n\";\n",
    "show count each data;"
   ]
  },
  {
   "cell_type": "markdown",
   "metadata": {
    "collapsed": true
   },
   "source": [
    "### One-Hot Encoding\n",
    "\n",
    "One-hot encoding is a method of encoding categorical variables to be more appropriate for machine learning algorithms.\n",
    "\n",
    "We assign an integer index to each distinct category and represent each value with a vector of `0`s and `1`s. The vector has length equal to the number of distinct categories, with a `0` in every position except the relevant category index, given value `1`.\n",
    "\n",
    "Consider categorical data drawn uniformly from 3 classes:"
   ]
  },
  {
   "cell_type": "code",
   "execution_count": 7,
   "metadata": {},
   "outputs": [
    {
     "name": "stdout",
     "output_type": "stream",
     "text": [
      "`AAA`CCC`AAA`BBB`CCC`AAA`BBB`CCC`CCC`CCC\n"
     ]
    }
   ],
   "source": [
    "show example:10?`AAA`BBB`CCC"
   ]
  },
  {
   "cell_type": "markdown",
   "metadata": {},
   "source": [
    "We use one-hot encoding to replace each point with a vector (of length 3) with a `1` indicating the original category."
   ]
  },
  {
   "cell_type": "code",
   "execution_count": 8,
   "metadata": {},
   "outputs": [
    {
     "data": {
      "text/plain": [
       "AAA| 1 0 1 0 0 1 0 0 0 0\n",
       "BBB| 0 0 0 1 0 0 1 0 0 0\n",
       "CCC| 0 1 0 0 1 0 0 1 1 1\n"
      ]
     },
     "execution_count": 8,
     "metadata": {},
     "output_type": "execute_result"
    }
   ],
   "source": [
    ".ml.i.oneHot example"
   ]
  },
  {
   "cell_type": "markdown",
   "metadata": {
    "collapsed": true
   },
   "source": [
    "The advantage of using this method over converting target to numberical values, e.g. 0 1 2, is that the numerical values will be interpreted by the model as having an order.\n",
    "\n",
    "In some situations this may be fine, for example if we have:\n",
    "```\n",
    "Small (0)\n",
    "Medium (1)\n",
    "Large (2)\n",
    "```\n",
    "\n",
    "However, it will cause problems when there is no intrinsic ordering, e.g.:\n",
    "```\n",
    "London (0)\n",
    "Paris (1)\n",
    "New York (2)\n",
    "```\n",
    "\n",
    "Given this encoding, a machine learning algorithm may assume an ordering that is not there, e.g. it could infer that Paris is, in some way, between London and New York.\n",
    "\n",
    "We will investigate the impact of using one-hot encoding vs. basic enumeration using a neural network applied to the MNIST dataset."
   ]
  },
  {
   "cell_type": "markdown",
   "metadata": {},
   "source": [
    "### One-hot encode targets\n",
    "\n",
    "We now apply onehot encoding to the target vectors. We also prepare the feature data for the neural network model by reshaping it to flattened arrays."
   ]
  },
  {
   "cell_type": "code",
   "execution_count": 9,
   "metadata": {},
   "outputs": [],
   "source": [
    "/ one-hot encode targets and convert to numpy arrays\n",
    "data:@[data;`otrain`otest;:;{flip value .ml.i.oneHot x}each data`ytrain`ytest]\n",
    "data:@[data;`ytrain`ytest`otrain`otest;.util.npa]\n",
    "\n",
    "/ reshape images\n",
    "data:@[data;`xtrain`xtest;{.util.npa[(raze/)x][`:reshape]count[x],28 28 1}]"
   ]
  },
  {
   "cell_type": "markdown",
   "metadata": {},
   "source": [
    "### Build and train models\n",
    "\n",
    "Below separate neural network models are define to train on both:\n",
    "- Continuous labels.\n",
    "- One-hot encoded labels.\n",
    "\n",
    "We begin by importing the relevant models, optimizers and layers."
   ]
  },
  {
   "cell_type": "code",
   "execution_count": 10,
   "metadata": {},
   "outputs": [],
   "source": [
    "/ Keras building blocks of model\n",
    "sequential:.p.import[`keras.models]`:Sequential\n",
    "adadelta:  .p.import[`keras.optimizers]`:Adadelta\n",
    "layers:    .p.import[`keras.layers]\n",
    "conv2d:    layers`:Conv2D\n",
    "maxpool2d: layers`:MaxPooling2D\n",
    "dense:     layers`:Dense\n",
    "dropout:   layers`:Dropout\n",
    "flatten:   layers`:Flatten"
   ]
  },
  {
   "cell_type": "code",
   "execution_count": 11,
   "metadata": {},
   "outputs": [
    {
     "name": "stdout",
     "output_type": "stream",
     "text": [
      "Model: \"sequential_1\"\n",
      "_________________________________________________________________\n",
      "Layer (type)                 Output Shape              Param #   \n",
      "=================================================================\n",
      "conv2d_1 (Conv2D)            (None, 26, 26, 32)        320       \n",
      "_________________________________________________________________\n",
      "conv2d_2 (Conv2D)            (None, 24, 24, 64)        18496     \n",
      "_________________________________________________________________\n",
      "max_pooling2d_1 (MaxPooling2 (None, 12, 12, 64)        0         \n",
      "_________________________________________________________________\n",
      "flatten_1 (Flatten)          (None, 9216)              0         \n",
      "_________________________________________________________________\n",
      "dense_1 (Dense)              (None, 128)               1179776   \n",
      "_________________________________________________________________\n",
      "dense_2 (Dense)              (None, 1)                 129       \n",
      "=================================================================\n",
      "Total params: 1,198,721\n",
      "Trainable params: 1,198,721\n",
      "Non-trainable params: 0\n",
      "_________________________________________________________________\n"
     ]
    }
   ],
   "source": [
    "/ function to create a continuous-valued model\n",
    "continuousmodel:{\n",
    "  model:sequential[];\n",
    "  model[`:add]conv2d[32;`kernel_size pykw 3 3;`activation pykw`relu;`input_shape pykw 28 28 1];\n",
    "  model[`:add]conv2d[64;`kernel_size pykw 3 3;`activation pykw`relu];\n",
    "  model[`:add]maxpool2d[`pool_size pykw 2 2];\n",
    "  model[`:add]flatten[];\n",
    "  model[`:add]dense[128;`activation pykw`relu];\n",
    "  model[`:add]dense[1;`activation pykw`relu];\n",
    "  model[`:compile][`loss pykw`mean_squared_error;`optimizer pykw adadelta[];`metrics pykw .p.list enlist`accuracy];\n",
    "  model}\n",
    "continuousmodel[][`:summary][];"
   ]
  },
  {
   "cell_type": "code",
   "execution_count": 12,
   "metadata": {},
   "outputs": [
    {
     "name": "stdout",
     "output_type": "stream",
     "text": [
      "Model: \"sequential_2\"\n",
      "_________________________________________________________________\n",
      "Layer (type)                 Output Shape              Param #   \n",
      "=================================================================\n",
      "conv2d_3 (Conv2D)            (None, 26, 26, 32)        320       \n",
      "_________________________________________________________________\n",
      "conv2d_4 (Conv2D)            (None, 24, 24, 64)        18496     \n",
      "_________________________________________________________________\n",
      "max_pooling2d_2 (MaxPooling2 (None, 12, 12, 64)        0         \n",
      "_________________________________________________________________\n",
      "dropout_1 (Dropout)          (None, 12, 12, 64)        0         \n",
      "_________________________________________________________________\n",
      "flatten_2 (Flatten)          (None, 9216)              0         \n",
      "_________________________________________________________________\n",
      "dense_3 (Dense)              (None, 128)               1179776   \n",
      "_________________________________________________________________\n",
      "dropout_2 (Dropout)          (None, 128)               0         \n",
      "_________________________________________________________________\n",
      "dense_4 (Dense)              (None, 10)                1290      \n",
      "=================================================================\n",
      "Total params: 1,199,882\n",
      "Trainable params: 1,199,882\n",
      "Non-trainable params: 0\n",
      "_________________________________________________________________\n"
     ]
    }
   ],
   "source": [
    "/ function to create a one-hot encoded model\n",
    "onehotmodel:{\n",
    "  model:sequential[];\n",
    "  model[`:add][conv2d[32;`kernel_size pykw 3 3;`activation pykw`relu;`input_shape pykw 28 28 1]];\n",
    "  model[`:add][conv2d[64;`kernel_size pykw 3 3;`activation pykw`relu]];\n",
    "  model[`:add]maxpool2d `pool_size pykw 2 2;\n",
    "  model[`:add]dropout 0.25;\n",
    "  model[`:add]flatten[];\n",
    "  model[`:add]dense[128;`activation pykw`relu];\n",
    "  model[`:add]dropout .5;\n",
    "  model[`:add]dense[10;`activation pykw`softmax];\n",
    "  model[`:compile][`loss pykw `categorical_crossentropy;`optimizer pykw adadelta[];`metrics pykw .p.list enlist`accuracy];\n",
    "  model}\n",
    "onehotmodel[][`:summary][];"
   ]
  },
  {
   "cell_type": "code",
   "execution_count": 13,
   "metadata": {},
   "outputs": [],
   "source": [
    "/ inputs\n",
    "epochs:20\n",
    "batchsz:128"
   ]
  },
  {
   "cell_type": "code",
   "execution_count": null,
   "metadata": {
    "scrolled": false
   },
   "outputs": [
    {
     "name": "stdout",
     "output_type": "stream",
     "text": [
      "Train on 60000 samples, validate on 10000 samples\n",
      "Epoch 1/20\n",
      "Epoch 2/20\n",
      "Epoch 3/20\n",
      "Epoch 4/20\n",
      "Epoch 5/20\n",
      "Epoch 6/20\n",
      "Epoch 7/20\n",
      "Epoch 8/20\n"
     ]
    }
   ],
   "source": [
    "/ fit continuous model\n",
    "cmodel:continuousmodel[];\n",
    "start:.z.T\n",
    "cresults:cmodel[`:fit][data`xtrain;data`ytrain;`batch_size pykw batchsz;`verbose pykw 3;\n",
    " `epochs pykw epochs;`validation_data pykw(data[`xtest]`.;data[`ytest]`.)]\n",
    "-1\"Training continuous model for \",string[epochs],\" epochs took \",string .z.T-start;"
   ]
  },
  {
   "cell_type": "code",
   "execution_count": null,
   "metadata": {},
   "outputs": [],
   "source": [
    "/ fit one-hot model\n",
    "omodel:onehotmodel[];\n",
    "start:.z.T\n",
    "oresults:omodel[`:fit][data`xtrain;data`otrain;`batch_size pykw batchsz;`verbose pykw 3;\n",
    " `epochs pykw epochs;`validation_data pykw(data[`xtest]`.;data[`otest]`.)]\n",
    "-1\"Training one-hot model for \",string[epochs],\" epochs took \",string .z.T-start;"
   ]
  },
  {
   "cell_type": "markdown",
   "metadata": {},
   "source": [
    "### Results"
   ]
  },
  {
   "cell_type": "code",
   "execution_count": null,
   "metadata": {},
   "outputs": [],
   "source": [
    "/ check tensorflow version to get correct model attributes\n",
    "tfacc:$[2>=\"I\"$.p.import[`tensorflow][`:__version__]`;\n",
    "  `accuracy`val_accuracy;`acc`val_acc],`loss`val_loss"
   ]
  },
  {
   "cell_type": "code",
   "execution_count": null,
   "metadata": {},
   "outputs": [],
   "source": [
    "/ performance of continuous model\n",
    "history:cresults[`:history]`\n",
    ".util.plotAccMSE . history[tfacc];"
   ]
  },
  {
   "cell_type": "code",
   "execution_count": null,
   "metadata": {
    "scrolled": false
   },
   "outputs": [],
   "source": [
    "/ performance of one-hot model\n",
    "history:oresults[`:history]`\n",
    ".util.plotAccMSE . history[tfacc];"
   ]
  },
  {
   "cell_type": "markdown",
   "metadata": {},
   "source": [
    "### Conclusions\n",
    "\n",
    "The continuous-valued model achieves 86% accuracy after 20 epochs, with performance fairly erratic across successive epochs. \n",
    "\n",
    "In comparison, the model with one-hot encoding provides smoother prediction accuracy. It also achieves an accuracy over 90% accuracy after just 1 epoch, increasing to 99% after just a few epochs.\n",
    "\n",
    "A technical explanation, is that one-hot encoding allows the backpropagation algorithm to provide separate training signals for each image class.\n",
    "\n",
    "Training with one-hot labels therefore seems considerably faster and, ultimately, more successful."
   ]
  },
  {
   "cell_type": "markdown",
   "metadata": {},
   "source": [
    "---"
   ]
  }
 ],
 "metadata": {
  "kernelspec": {
   "display_name": "Q (kdb+)",
   "language": "q",
   "name": "qpk"
  },
  "language_info": {
   "file_extension": ".q",
   "mimetype": "text/x-q",
   "name": "q",
   "version": "4.0"
  }
 },
 "nbformat": 4,
 "nbformat_minor": 2
}
